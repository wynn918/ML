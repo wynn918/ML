{
  "nbformat": 4,
  "nbformat_minor": 0,
  "metadata": {
    "colab": {
      "name": "Wine.ipynb",
      "provenance": [],
      "authorship_tag": "ABX9TyPNybrIWrSEx7npRAEkLgnp",
      "include_colab_link": true
    },
    "kernelspec": {
      "name": "python3",
      "display_name": "Python 3"
    },
    "language_info": {
      "name": "python"
    }
  },
  "cells": [
    {
      "cell_type": "markdown",
      "metadata": {
        "id": "view-in-github",
        "colab_type": "text"
      },
      "source": [
        "<a href=\"https://colab.research.google.com/github/wynn918/ML/blob/main/Wine.ipynb\" target=\"_parent\"><img src=\"https://colab.research.google.com/assets/colab-badge.svg\" alt=\"Open In Colab\"/></a>"
      ]
    },
    {
      "cell_type": "code",
      "metadata": {
        "id": "6_rKImYreLYH"
      },
      "source": [
        "from sklearn import tree\n",
        "from sklearn.datasets import load_wine\n",
        "from sklearn.model_selection import train_test_split"
      ],
      "execution_count": null,
      "outputs": []
    },
    {
      "cell_type": "code",
      "metadata": {
        "colab": {
          "base_uri": "https://localhost:8080/"
        },
        "id": "mVR8XGGpYlTv",
        "outputId": "bea6cb45-98d6-4095-eb5a-3946ad2230f8"
      },
      "source": [
        "wine = load_wine()\n",
        "wine.target"
      ],
      "execution_count": null,
      "outputs": [
        {
          "output_type": "execute_result",
          "data": {
            "text/plain": [
              "array([0, 0, 0, 0, 0, 0, 0, 0, 0, 0, 0, 0, 0, 0, 0, 0, 0, 0, 0, 0, 0, 0,\n",
              "       0, 0, 0, 0, 0, 0, 0, 0, 0, 0, 0, 0, 0, 0, 0, 0, 0, 0, 0, 0, 0, 0,\n",
              "       0, 0, 0, 0, 0, 0, 0, 0, 0, 0, 0, 0, 0, 0, 0, 1, 1, 1, 1, 1, 1, 1,\n",
              "       1, 1, 1, 1, 1, 1, 1, 1, 1, 1, 1, 1, 1, 1, 1, 1, 1, 1, 1, 1, 1, 1,\n",
              "       1, 1, 1, 1, 1, 1, 1, 1, 1, 1, 1, 1, 1, 1, 1, 1, 1, 1, 1, 1, 1, 1,\n",
              "       1, 1, 1, 1, 1, 1, 1, 1, 1, 1, 1, 1, 1, 1, 1, 1, 1, 1, 1, 1, 2, 2,\n",
              "       2, 2, 2, 2, 2, 2, 2, 2, 2, 2, 2, 2, 2, 2, 2, 2, 2, 2, 2, 2, 2, 2,\n",
              "       2, 2, 2, 2, 2, 2, 2, 2, 2, 2, 2, 2, 2, 2, 2, 2, 2, 2, 2, 2, 2, 2,\n",
              "       2, 2])"
            ]
          },
          "metadata": {
            "tags": []
          },
          "execution_count": 4
        }
      ]
    },
    {
      "cell_type": "code",
      "metadata": {
        "colab": {
          "base_uri": "https://localhost:8080/"
        },
        "id": "d6R53XFdsry_",
        "outputId": "b5c54f10-d1f6-4d66-932b-736158b1ac29"
      },
      "source": [
        "wine.data.shape"
      ],
      "execution_count": null,
      "outputs": [
        {
          "output_type": "execute_result",
          "data": {
            "text/plain": [
              "(178, 13)"
            ]
          },
          "metadata": {
            "tags": []
          },
          "execution_count": 6
        }
      ]
    },
    {
      "cell_type": "code",
      "metadata": {
        "colab": {
          "base_uri": "https://localhost:8080/",
          "height": 419
        },
        "id": "PAxXThzAs1Ta",
        "outputId": "d069adf2-a24e-40c6-9e57-7d47dcd18a22"
      },
      "source": [
        "import pandas as pd\n",
        "pd.concat([pd.DataFrame(wine.data),pd.DataFrame(wine.target)],axis=1)"
      ],
      "execution_count": null,
      "outputs": [
        {
          "output_type": "execute_result",
          "data": {
            "text/html": [
              "<div>\n",
              "<style scoped>\n",
              "    .dataframe tbody tr th:only-of-type {\n",
              "        vertical-align: middle;\n",
              "    }\n",
              "\n",
              "    .dataframe tbody tr th {\n",
              "        vertical-align: top;\n",
              "    }\n",
              "\n",
              "    .dataframe thead th {\n",
              "        text-align: right;\n",
              "    }\n",
              "</style>\n",
              "<table border=\"1\" class=\"dataframe\">\n",
              "  <thead>\n",
              "    <tr style=\"text-align: right;\">\n",
              "      <th></th>\n",
              "      <th>0</th>\n",
              "      <th>1</th>\n",
              "      <th>2</th>\n",
              "      <th>3</th>\n",
              "      <th>4</th>\n",
              "      <th>5</th>\n",
              "      <th>6</th>\n",
              "      <th>7</th>\n",
              "      <th>8</th>\n",
              "      <th>9</th>\n",
              "      <th>10</th>\n",
              "      <th>11</th>\n",
              "      <th>12</th>\n",
              "      <th>0</th>\n",
              "    </tr>\n",
              "  </thead>\n",
              "  <tbody>\n",
              "    <tr>\n",
              "      <th>0</th>\n",
              "      <td>14.23</td>\n",
              "      <td>1.71</td>\n",
              "      <td>2.43</td>\n",
              "      <td>15.6</td>\n",
              "      <td>127.0</td>\n",
              "      <td>2.80</td>\n",
              "      <td>3.06</td>\n",
              "      <td>0.28</td>\n",
              "      <td>2.29</td>\n",
              "      <td>5.64</td>\n",
              "      <td>1.04</td>\n",
              "      <td>3.92</td>\n",
              "      <td>1065.0</td>\n",
              "      <td>0</td>\n",
              "    </tr>\n",
              "    <tr>\n",
              "      <th>1</th>\n",
              "      <td>13.20</td>\n",
              "      <td>1.78</td>\n",
              "      <td>2.14</td>\n",
              "      <td>11.2</td>\n",
              "      <td>100.0</td>\n",
              "      <td>2.65</td>\n",
              "      <td>2.76</td>\n",
              "      <td>0.26</td>\n",
              "      <td>1.28</td>\n",
              "      <td>4.38</td>\n",
              "      <td>1.05</td>\n",
              "      <td>3.40</td>\n",
              "      <td>1050.0</td>\n",
              "      <td>0</td>\n",
              "    </tr>\n",
              "    <tr>\n",
              "      <th>2</th>\n",
              "      <td>13.16</td>\n",
              "      <td>2.36</td>\n",
              "      <td>2.67</td>\n",
              "      <td>18.6</td>\n",
              "      <td>101.0</td>\n",
              "      <td>2.80</td>\n",
              "      <td>3.24</td>\n",
              "      <td>0.30</td>\n",
              "      <td>2.81</td>\n",
              "      <td>5.68</td>\n",
              "      <td>1.03</td>\n",
              "      <td>3.17</td>\n",
              "      <td>1185.0</td>\n",
              "      <td>0</td>\n",
              "    </tr>\n",
              "    <tr>\n",
              "      <th>3</th>\n",
              "      <td>14.37</td>\n",
              "      <td>1.95</td>\n",
              "      <td>2.50</td>\n",
              "      <td>16.8</td>\n",
              "      <td>113.0</td>\n",
              "      <td>3.85</td>\n",
              "      <td>3.49</td>\n",
              "      <td>0.24</td>\n",
              "      <td>2.18</td>\n",
              "      <td>7.80</td>\n",
              "      <td>0.86</td>\n",
              "      <td>3.45</td>\n",
              "      <td>1480.0</td>\n",
              "      <td>0</td>\n",
              "    </tr>\n",
              "    <tr>\n",
              "      <th>4</th>\n",
              "      <td>13.24</td>\n",
              "      <td>2.59</td>\n",
              "      <td>2.87</td>\n",
              "      <td>21.0</td>\n",
              "      <td>118.0</td>\n",
              "      <td>2.80</td>\n",
              "      <td>2.69</td>\n",
              "      <td>0.39</td>\n",
              "      <td>1.82</td>\n",
              "      <td>4.32</td>\n",
              "      <td>1.04</td>\n",
              "      <td>2.93</td>\n",
              "      <td>735.0</td>\n",
              "      <td>0</td>\n",
              "    </tr>\n",
              "    <tr>\n",
              "      <th>...</th>\n",
              "      <td>...</td>\n",
              "      <td>...</td>\n",
              "      <td>...</td>\n",
              "      <td>...</td>\n",
              "      <td>...</td>\n",
              "      <td>...</td>\n",
              "      <td>...</td>\n",
              "      <td>...</td>\n",
              "      <td>...</td>\n",
              "      <td>...</td>\n",
              "      <td>...</td>\n",
              "      <td>...</td>\n",
              "      <td>...</td>\n",
              "      <td>...</td>\n",
              "    </tr>\n",
              "    <tr>\n",
              "      <th>173</th>\n",
              "      <td>13.71</td>\n",
              "      <td>5.65</td>\n",
              "      <td>2.45</td>\n",
              "      <td>20.5</td>\n",
              "      <td>95.0</td>\n",
              "      <td>1.68</td>\n",
              "      <td>0.61</td>\n",
              "      <td>0.52</td>\n",
              "      <td>1.06</td>\n",
              "      <td>7.70</td>\n",
              "      <td>0.64</td>\n",
              "      <td>1.74</td>\n",
              "      <td>740.0</td>\n",
              "      <td>2</td>\n",
              "    </tr>\n",
              "    <tr>\n",
              "      <th>174</th>\n",
              "      <td>13.40</td>\n",
              "      <td>3.91</td>\n",
              "      <td>2.48</td>\n",
              "      <td>23.0</td>\n",
              "      <td>102.0</td>\n",
              "      <td>1.80</td>\n",
              "      <td>0.75</td>\n",
              "      <td>0.43</td>\n",
              "      <td>1.41</td>\n",
              "      <td>7.30</td>\n",
              "      <td>0.70</td>\n",
              "      <td>1.56</td>\n",
              "      <td>750.0</td>\n",
              "      <td>2</td>\n",
              "    </tr>\n",
              "    <tr>\n",
              "      <th>175</th>\n",
              "      <td>13.27</td>\n",
              "      <td>4.28</td>\n",
              "      <td>2.26</td>\n",
              "      <td>20.0</td>\n",
              "      <td>120.0</td>\n",
              "      <td>1.59</td>\n",
              "      <td>0.69</td>\n",
              "      <td>0.43</td>\n",
              "      <td>1.35</td>\n",
              "      <td>10.20</td>\n",
              "      <td>0.59</td>\n",
              "      <td>1.56</td>\n",
              "      <td>835.0</td>\n",
              "      <td>2</td>\n",
              "    </tr>\n",
              "    <tr>\n",
              "      <th>176</th>\n",
              "      <td>13.17</td>\n",
              "      <td>2.59</td>\n",
              "      <td>2.37</td>\n",
              "      <td>20.0</td>\n",
              "      <td>120.0</td>\n",
              "      <td>1.65</td>\n",
              "      <td>0.68</td>\n",
              "      <td>0.53</td>\n",
              "      <td>1.46</td>\n",
              "      <td>9.30</td>\n",
              "      <td>0.60</td>\n",
              "      <td>1.62</td>\n",
              "      <td>840.0</td>\n",
              "      <td>2</td>\n",
              "    </tr>\n",
              "    <tr>\n",
              "      <th>177</th>\n",
              "      <td>14.13</td>\n",
              "      <td>4.10</td>\n",
              "      <td>2.74</td>\n",
              "      <td>24.5</td>\n",
              "      <td>96.0</td>\n",
              "      <td>2.05</td>\n",
              "      <td>0.76</td>\n",
              "      <td>0.56</td>\n",
              "      <td>1.35</td>\n",
              "      <td>9.20</td>\n",
              "      <td>0.61</td>\n",
              "      <td>1.60</td>\n",
              "      <td>560.0</td>\n",
              "      <td>2</td>\n",
              "    </tr>\n",
              "  </tbody>\n",
              "</table>\n",
              "<p>178 rows × 14 columns</p>\n",
              "</div>"
            ],
            "text/plain": [
              "        0     1     2     3      4     5   ...    8      9     10    11      12  0 \n",
              "0    14.23  1.71  2.43  15.6  127.0  2.80  ...  2.29   5.64  1.04  3.92  1065.0   0\n",
              "1    13.20  1.78  2.14  11.2  100.0  2.65  ...  1.28   4.38  1.05  3.40  1050.0   0\n",
              "2    13.16  2.36  2.67  18.6  101.0  2.80  ...  2.81   5.68  1.03  3.17  1185.0   0\n",
              "3    14.37  1.95  2.50  16.8  113.0  3.85  ...  2.18   7.80  0.86  3.45  1480.0   0\n",
              "4    13.24  2.59  2.87  21.0  118.0  2.80  ...  1.82   4.32  1.04  2.93   735.0   0\n",
              "..     ...   ...   ...   ...    ...   ...  ...   ...    ...   ...   ...     ...  ..\n",
              "173  13.71  5.65  2.45  20.5   95.0  1.68  ...  1.06   7.70  0.64  1.74   740.0   2\n",
              "174  13.40  3.91  2.48  23.0  102.0  1.80  ...  1.41   7.30  0.70  1.56   750.0   2\n",
              "175  13.27  4.28  2.26  20.0  120.0  1.59  ...  1.35  10.20  0.59  1.56   835.0   2\n",
              "176  13.17  2.59  2.37  20.0  120.0  1.65  ...  1.46   9.30  0.60  1.62   840.0   2\n",
              "177  14.13  4.10  2.74  24.5   96.0  2.05  ...  1.35   9.20  0.61  1.60   560.0   2\n",
              "\n",
              "[178 rows x 14 columns]"
            ]
          },
          "metadata": {
            "tags": []
          },
          "execution_count": 7
        }
      ]
    },
    {
      "cell_type": "code",
      "metadata": {
        "colab": {
          "base_uri": "https://localhost:8080/"
        },
        "id": "RqqAEpvctH_z",
        "outputId": "18579e73-1fc8-4967-b415-16e08fa00272"
      },
      "source": [
        "wine.feature_names"
      ],
      "execution_count": null,
      "outputs": [
        {
          "output_type": "execute_result",
          "data": {
            "text/plain": [
              "['alcohol',\n",
              " 'malic_acid',\n",
              " 'ash',\n",
              " 'alcalinity_of_ash',\n",
              " 'magnesium',\n",
              " 'total_phenols',\n",
              " 'flavanoids',\n",
              " 'nonflavanoid_phenols',\n",
              " 'proanthocyanins',\n",
              " 'color_intensity',\n",
              " 'hue',\n",
              " 'od280/od315_of_diluted_wines',\n",
              " 'proline']"
            ]
          },
          "metadata": {
            "tags": []
          },
          "execution_count": 8
        }
      ]
    },
    {
      "cell_type": "code",
      "metadata": {
        "colab": {
          "base_uri": "https://localhost:8080/"
        },
        "id": "q3IBID_5tLj8",
        "outputId": "e60747d1-6b1f-4199-9479-3fb8285bf697"
      },
      "source": [
        "wine.target_names"
      ],
      "execution_count": null,
      "outputs": [
        {
          "output_type": "execute_result",
          "data": {
            "text/plain": [
              "array(['class_0', 'class_1', 'class_2'], dtype='<U7')"
            ]
          },
          "metadata": {
            "tags": []
          },
          "execution_count": 9
        }
      ]
    },
    {
      "cell_type": "code",
      "metadata": {
        "id": "7uHcZNyWt1iZ"
      },
      "source": [
        "Xtrain, Xtest, Ytrain, Ytest = train_test_split(wine.data,wine.target,test_size=0.3)"
      ],
      "execution_count": null,
      "outputs": []
    },
    {
      "cell_type": "code",
      "metadata": {
        "colab": {
          "base_uri": "https://localhost:8080/"
        },
        "id": "9u6VUxKbudun",
        "outputId": "248276e5-cfc1-409a-e42d-e52659205ef4"
      },
      "source": [
        "Xtrain.shape"
      ],
      "execution_count": null,
      "outputs": [
        {
          "output_type": "execute_result",
          "data": {
            "text/plain": [
              "(124, 13)"
            ]
          },
          "metadata": {
            "tags": []
          },
          "execution_count": 14
        }
      ]
    },
    {
      "cell_type": "code",
      "metadata": {
        "colab": {
          "base_uri": "https://localhost:8080/"
        },
        "id": "SNquIwGNupQk",
        "outputId": "13e6dab4-0c7d-45fe-fc10-93dee1b435d6"
      },
      "source": [
        "clf = tree.DecisionTreeClassifier(criterion=\"entropy\",random_state=30)#randome_state control the random select\n",
        "clf = clf.fit(Xtrain, Ytrain)\n",
        "score = clf.score(Xtest,Ytest)\n",
        "score"
      ],
      "execution_count": null,
      "outputs": [
        {
          "output_type": "execute_result",
          "data": {
            "text/plain": [
              "0.9259259259259259"
            ]
          },
          "metadata": {
            "tags": []
          },
          "execution_count": 22
        }
      ]
    },
    {
      "cell_type": "code",
      "metadata": {
        "colab": {
          "base_uri": "https://localhost:8080/",
          "height": 598
        },
        "id": "dWwLoCfLvBcC",
        "outputId": "56105f13-e35e-4c13-e86e-436633b4ee93"
      },
      "source": [
        "import graphviz\n",
        "dot_data = tree.export_graphviz(clf\n",
        "                                ,feature_names = wine.feature_names\n",
        "                                ,class_names = [\"Gin\",\"Sherry\",\"Vermouth\"]\n",
        "                                ,filled = True #filled with color\n",
        "                                ,rounded = True #The box becomes a round box\n",
        "                                )\n",
        "graph = graphviz.Source(dot_data)\n",
        "graph"
      ],
      "execution_count": null,
      "outputs": [
        {
          "output_type": "execute_result",
          "data": {
            "text/plain": [
              "<graphviz.files.Source at 0x7f6ba15cf150>"
            ],
            "image/svg+xml": "<?xml version=\"1.0\" encoding=\"UTF-8\" standalone=\"no\"?>\n<!DOCTYPE svg PUBLIC \"-//W3C//DTD SVG 1.1//EN\"\n \"http://www.w3.org/Graphics/SVG/1.1/DTD/svg11.dtd\">\n<!-- Generated by graphviz version 2.40.1 (20161225.0304)\n -->\n<!-- Title: Tree Pages: 1 -->\n<svg width=\"663pt\" height=\"433pt\"\n viewBox=\"0.00 0.00 662.50 433.00\" xmlns=\"http://www.w3.org/2000/svg\" xmlns:xlink=\"http://www.w3.org/1999/xlink\">\n<g id=\"graph0\" class=\"graph\" transform=\"scale(1 1) rotate(0) translate(4 429)\">\n<title>Tree</title>\n<polygon fill=\"#ffffff\" stroke=\"transparent\" points=\"-4,4 -4,-429 658.5,-429 658.5,4 -4,4\"/>\n<!-- 0 -->\n<g id=\"node1\" class=\"node\">\n<title>0</title>\n<path fill=\"#f1fdf6\" stroke=\"#000000\" d=\"M353,-425C353,-425 237,-425 237,-425 231,-425 225,-419 225,-413 225,-413 225,-354 225,-354 225,-348 231,-342 237,-342 237,-342 353,-342 353,-342 359,-342 365,-348 365,-354 365,-354 365,-413 365,-413 365,-419 359,-425 353,-425\"/>\n<text text-anchor=\"middle\" x=\"295\" y=\"-409.8\" font-family=\"Helvetica,sans-Serif\" font-size=\"14.00\" fill=\"#000000\">flavanoids &lt;= 1.58</text>\n<text text-anchor=\"middle\" x=\"295\" y=\"-394.8\" font-family=\"Helvetica,sans-Serif\" font-size=\"14.00\" fill=\"#000000\">entropy = 1.571</text>\n<text text-anchor=\"middle\" x=\"295\" y=\"-379.8\" font-family=\"Helvetica,sans-Serif\" font-size=\"14.00\" fill=\"#000000\">samples = 124</text>\n<text text-anchor=\"middle\" x=\"295\" y=\"-364.8\" font-family=\"Helvetica,sans-Serif\" font-size=\"14.00\" fill=\"#000000\">value = [42, 48, 34]</text>\n<text text-anchor=\"middle\" x=\"295\" y=\"-349.8\" font-family=\"Helvetica,sans-Serif\" font-size=\"14.00\" fill=\"#000000\">class = Sherry</text>\n</g>\n<!-- 1 -->\n<g id=\"node2\" class=\"node\">\n<title>1</title>\n<path fill=\"#a26dec\" stroke=\"#000000\" d=\"M271,-306C271,-306 167,-306 167,-306 161,-306 155,-300 155,-294 155,-294 155,-235 155,-235 155,-229 161,-223 167,-223 167,-223 271,-223 271,-223 277,-223 283,-229 283,-235 283,-235 283,-294 283,-294 283,-300 277,-306 271,-306\"/>\n<text text-anchor=\"middle\" x=\"219\" y=\"-290.8\" font-family=\"Helvetica,sans-Serif\" font-size=\"14.00\" fill=\"#000000\">hue &lt;= 0.925</text>\n<text text-anchor=\"middle\" x=\"219\" y=\"-275.8\" font-family=\"Helvetica,sans-Serif\" font-size=\"14.00\" fill=\"#000000\">entropy = 0.74</text>\n<text text-anchor=\"middle\" x=\"219\" y=\"-260.8\" font-family=\"Helvetica,sans-Serif\" font-size=\"14.00\" fill=\"#000000\">samples = 43</text>\n<text text-anchor=\"middle\" x=\"219\" y=\"-245.8\" font-family=\"Helvetica,sans-Serif\" font-size=\"14.00\" fill=\"#000000\">value = [0, 9, 34]</text>\n<text text-anchor=\"middle\" x=\"219\" y=\"-230.8\" font-family=\"Helvetica,sans-Serif\" font-size=\"14.00\" fill=\"#000000\">class = Vermouth</text>\n</g>\n<!-- 0&#45;&gt;1 -->\n<g id=\"edge1\" class=\"edge\">\n<title>0&#45;&gt;1</title>\n<path fill=\"none\" stroke=\"#000000\" d=\"M268.4189,-341.8796C262.8395,-333.1434 256.8981,-323.8404 251.1405,-314.8253\"/>\n<polygon fill=\"#000000\" stroke=\"#000000\" points=\"254.0269,-312.8421 245.6946,-306.2981 248.1274,-316.6098 254.0269,-312.8421\"/>\n<text text-anchor=\"middle\" x=\"240.3111\" y=\"-327.0116\" font-family=\"Helvetica,sans-Serif\" font-size=\"14.00\" fill=\"#000000\">True</text>\n</g>\n<!-- 6 -->\n<g id=\"node7\" class=\"node\">\n<title>6</title>\n<path fill=\"#fdf6f1\" stroke=\"#000000\" d=\"M425.5,-306C425.5,-306 318.5,-306 318.5,-306 312.5,-306 306.5,-300 306.5,-294 306.5,-294 306.5,-235 306.5,-235 306.5,-229 312.5,-223 318.5,-223 318.5,-223 425.5,-223 425.5,-223 431.5,-223 437.5,-229 437.5,-235 437.5,-235 437.5,-294 437.5,-294 437.5,-300 431.5,-306 425.5,-306\"/>\n<text text-anchor=\"middle\" x=\"372\" y=\"-290.8\" font-family=\"Helvetica,sans-Serif\" font-size=\"14.00\" fill=\"#000000\">proline &lt;= 724.5</text>\n<text text-anchor=\"middle\" x=\"372\" y=\"-275.8\" font-family=\"Helvetica,sans-Serif\" font-size=\"14.00\" fill=\"#000000\">entropy = 0.999</text>\n<text text-anchor=\"middle\" x=\"372\" y=\"-260.8\" font-family=\"Helvetica,sans-Serif\" font-size=\"14.00\" fill=\"#000000\">samples = 81</text>\n<text text-anchor=\"middle\" x=\"372\" y=\"-245.8\" font-family=\"Helvetica,sans-Serif\" font-size=\"14.00\" fill=\"#000000\">value = [42, 39, 0]</text>\n<text text-anchor=\"middle\" x=\"372\" y=\"-230.8\" font-family=\"Helvetica,sans-Serif\" font-size=\"14.00\" fill=\"#000000\">class = Gin</text>\n</g>\n<!-- 0&#45;&gt;6 -->\n<g id=\"edge6\" class=\"edge\">\n<title>0&#45;&gt;6</title>\n<path fill=\"none\" stroke=\"#000000\" d=\"M321.9309,-341.8796C327.5837,-333.1434 333.6033,-323.8404 339.4366,-314.8253\"/>\n<polygon fill=\"#000000\" stroke=\"#000000\" points=\"342.4601,-316.5952 344.9542,-306.2981 336.5831,-312.7924 342.4601,-316.5952\"/>\n<text text-anchor=\"middle\" x=\"350.1924\" y=\"-327.0431\" font-family=\"Helvetica,sans-Serif\" font-size=\"14.00\" fill=\"#000000\">False</text>\n</g>\n<!-- 2 -->\n<g id=\"node3\" class=\"node\">\n<title>2</title>\n<path fill=\"#8139e5\" stroke=\"#000000\" d=\"M116,-179.5C116,-179.5 12,-179.5 12,-179.5 6,-179.5 0,-173.5 0,-167.5 0,-167.5 0,-123.5 0,-123.5 0,-117.5 6,-111.5 12,-111.5 12,-111.5 116,-111.5 116,-111.5 122,-111.5 128,-117.5 128,-123.5 128,-123.5 128,-167.5 128,-167.5 128,-173.5 122,-179.5 116,-179.5\"/>\n<text text-anchor=\"middle\" x=\"64\" y=\"-164.3\" font-family=\"Helvetica,sans-Serif\" font-size=\"14.00\" fill=\"#000000\">entropy = 0.0</text>\n<text text-anchor=\"middle\" x=\"64\" y=\"-149.3\" font-family=\"Helvetica,sans-Serif\" font-size=\"14.00\" fill=\"#000000\">samples = 33</text>\n<text text-anchor=\"middle\" x=\"64\" y=\"-134.3\" font-family=\"Helvetica,sans-Serif\" font-size=\"14.00\" fill=\"#000000\">value = [0, 0, 33]</text>\n<text text-anchor=\"middle\" x=\"64\" y=\"-119.3\" font-family=\"Helvetica,sans-Serif\" font-size=\"14.00\" fill=\"#000000\">class = Vermouth</text>\n</g>\n<!-- 1&#45;&gt;2 -->\n<g id=\"edge2\" class=\"edge\">\n<title>1&#45;&gt;2</title>\n<path fill=\"none\" stroke=\"#000000\" d=\"M164.7885,-222.8796C149.1769,-210.8938 132.1753,-197.841 116.6592,-185.9287\"/>\n<polygon fill=\"#000000\" stroke=\"#000000\" points=\"118.7593,-183.1285 108.6959,-179.8149 114.4965,-188.6808 118.7593,-183.1285\"/>\n</g>\n<!-- 3 -->\n<g id=\"node4\" class=\"node\">\n<title>3</title>\n<path fill=\"#4fe88f\" stroke=\"#000000\" d=\"M280,-187C280,-187 158,-187 158,-187 152,-187 146,-181 146,-175 146,-175 146,-116 146,-116 146,-110 152,-104 158,-104 158,-104 280,-104 280,-104 286,-104 292,-110 292,-116 292,-116 292,-175 292,-175 292,-181 286,-187 280,-187\"/>\n<text text-anchor=\"middle\" x=\"219\" y=\"-171.8\" font-family=\"Helvetica,sans-Serif\" font-size=\"14.00\" fill=\"#000000\">malic_acid &lt;= 2.545</text>\n<text text-anchor=\"middle\" x=\"219\" y=\"-156.8\" font-family=\"Helvetica,sans-Serif\" font-size=\"14.00\" fill=\"#000000\">entropy = 0.469</text>\n<text text-anchor=\"middle\" x=\"219\" y=\"-141.8\" font-family=\"Helvetica,sans-Serif\" font-size=\"14.00\" fill=\"#000000\">samples = 10</text>\n<text text-anchor=\"middle\" x=\"219\" y=\"-126.8\" font-family=\"Helvetica,sans-Serif\" font-size=\"14.00\" fill=\"#000000\">value = [0, 9, 1]</text>\n<text text-anchor=\"middle\" x=\"219\" y=\"-111.8\" font-family=\"Helvetica,sans-Serif\" font-size=\"14.00\" fill=\"#000000\">class = Sherry</text>\n</g>\n<!-- 1&#45;&gt;3 -->\n<g id=\"edge3\" class=\"edge\">\n<title>1&#45;&gt;3</title>\n<path fill=\"none\" stroke=\"#000000\" d=\"M219,-222.8796C219,-214.6838 219,-205.9891 219,-197.5013\"/>\n<polygon fill=\"#000000\" stroke=\"#000000\" points=\"222.5001,-197.298 219,-187.2981 215.5001,-197.2981 222.5001,-197.298\"/>\n</g>\n<!-- 4 -->\n<g id=\"node5\" class=\"node\">\n<title>4</title>\n<path fill=\"#39e581\" stroke=\"#000000\" d=\"M203.5,-68C203.5,-68 112.5,-68 112.5,-68 106.5,-68 100.5,-62 100.5,-56 100.5,-56 100.5,-12 100.5,-12 100.5,-6 106.5,0 112.5,0 112.5,0 203.5,0 203.5,0 209.5,0 215.5,-6 215.5,-12 215.5,-12 215.5,-56 215.5,-56 215.5,-62 209.5,-68 203.5,-68\"/>\n<text text-anchor=\"middle\" x=\"158\" y=\"-52.8\" font-family=\"Helvetica,sans-Serif\" font-size=\"14.00\" fill=\"#000000\">entropy = 0.0</text>\n<text text-anchor=\"middle\" x=\"158\" y=\"-37.8\" font-family=\"Helvetica,sans-Serif\" font-size=\"14.00\" fill=\"#000000\">samples = 9</text>\n<text text-anchor=\"middle\" x=\"158\" y=\"-22.8\" font-family=\"Helvetica,sans-Serif\" font-size=\"14.00\" fill=\"#000000\">value = [0, 9, 0]</text>\n<text text-anchor=\"middle\" x=\"158\" y=\"-7.8\" font-family=\"Helvetica,sans-Serif\" font-size=\"14.00\" fill=\"#000000\">class = Sherry</text>\n</g>\n<!-- 3&#45;&gt;4 -->\n<g id=\"edge4\" class=\"edge\">\n<title>3&#45;&gt;4</title>\n<path fill=\"none\" stroke=\"#000000\" d=\"M196.2859,-103.9815C191.5092,-95.2504 186.4595,-86.0202 181.6494,-77.2281\"/>\n<polygon fill=\"#000000\" stroke=\"#000000\" points=\"184.6153,-75.3568 176.7451,-68.2637 178.4742,-78.7165 184.6153,-75.3568\"/>\n</g>\n<!-- 5 -->\n<g id=\"node6\" class=\"node\">\n<title>5</title>\n<path fill=\"#8139e5\" stroke=\"#000000\" d=\"M350,-68C350,-68 246,-68 246,-68 240,-68 234,-62 234,-56 234,-56 234,-12 234,-12 234,-6 240,0 246,0 246,0 350,0 350,0 356,0 362,-6 362,-12 362,-12 362,-56 362,-56 362,-62 356,-68 350,-68\"/>\n<text text-anchor=\"middle\" x=\"298\" y=\"-52.8\" font-family=\"Helvetica,sans-Serif\" font-size=\"14.00\" fill=\"#000000\">entropy = 0.0</text>\n<text text-anchor=\"middle\" x=\"298\" y=\"-37.8\" font-family=\"Helvetica,sans-Serif\" font-size=\"14.00\" fill=\"#000000\">samples = 1</text>\n<text text-anchor=\"middle\" x=\"298\" y=\"-22.8\" font-family=\"Helvetica,sans-Serif\" font-size=\"14.00\" fill=\"#000000\">value = [0, 0, 1]</text>\n<text text-anchor=\"middle\" x=\"298\" y=\"-7.8\" font-family=\"Helvetica,sans-Serif\" font-size=\"14.00\" fill=\"#000000\">class = Vermouth</text>\n</g>\n<!-- 3&#45;&gt;5 -->\n<g id=\"edge5\" class=\"edge\">\n<title>3&#45;&gt;5</title>\n<path fill=\"none\" stroke=\"#000000\" d=\"M248.4167,-103.9815C254.7331,-95.0666 261.4182,-85.6313 267.7651,-76.6734\"/>\n<polygon fill=\"#000000\" stroke=\"#000000\" points=\"270.7981,-78.4466 273.7235,-68.2637 265.0864,-74.3998 270.7981,-78.4466\"/>\n</g>\n<!-- 7 -->\n<g id=\"node8\" class=\"node\">\n<title>7</title>\n<path fill=\"#39e581\" stroke=\"#000000\" d=\"M421.5,-179.5C421.5,-179.5 322.5,-179.5 322.5,-179.5 316.5,-179.5 310.5,-173.5 310.5,-167.5 310.5,-167.5 310.5,-123.5 310.5,-123.5 310.5,-117.5 316.5,-111.5 322.5,-111.5 322.5,-111.5 421.5,-111.5 421.5,-111.5 427.5,-111.5 433.5,-117.5 433.5,-123.5 433.5,-123.5 433.5,-167.5 433.5,-167.5 433.5,-173.5 427.5,-179.5 421.5,-179.5\"/>\n<text text-anchor=\"middle\" x=\"372\" y=\"-164.3\" font-family=\"Helvetica,sans-Serif\" font-size=\"14.00\" fill=\"#000000\">entropy = 0.0</text>\n<text text-anchor=\"middle\" x=\"372\" y=\"-149.3\" font-family=\"Helvetica,sans-Serif\" font-size=\"14.00\" fill=\"#000000\">samples = 36</text>\n<text text-anchor=\"middle\" x=\"372\" y=\"-134.3\" font-family=\"Helvetica,sans-Serif\" font-size=\"14.00\" fill=\"#000000\">value = [0, 36, 0]</text>\n<text text-anchor=\"middle\" x=\"372\" y=\"-119.3\" font-family=\"Helvetica,sans-Serif\" font-size=\"14.00\" fill=\"#000000\">class = Sherry</text>\n</g>\n<!-- 6&#45;&gt;7 -->\n<g id=\"edge7\" class=\"edge\">\n<title>6&#45;&gt;7</title>\n<path fill=\"none\" stroke=\"#000000\" d=\"M372,-222.8796C372,-212.2134 372,-200.7021 372,-189.9015\"/>\n<polygon fill=\"#000000\" stroke=\"#000000\" points=\"375.5001,-189.8149 372,-179.8149 368.5001,-189.815 375.5001,-189.8149\"/>\n</g>\n<!-- 8 -->\n<g id=\"node9\" class=\"node\">\n<title>8</title>\n<path fill=\"#e78a47\" stroke=\"#000000\" d=\"M602,-187C602,-187 464,-187 464,-187 458,-187 452,-181 452,-175 452,-175 452,-116 452,-116 452,-110 458,-104 464,-104 464,-104 602,-104 602,-104 608,-104 614,-110 614,-116 614,-116 614,-175 614,-175 614,-181 608,-187 602,-187\"/>\n<text text-anchor=\"middle\" x=\"533\" y=\"-171.8\" font-family=\"Helvetica,sans-Serif\" font-size=\"14.00\" fill=\"#000000\">color_intensity &lt;= 3.46</text>\n<text text-anchor=\"middle\" x=\"533\" y=\"-156.8\" font-family=\"Helvetica,sans-Serif\" font-size=\"14.00\" fill=\"#000000\">entropy = 0.353</text>\n<text text-anchor=\"middle\" x=\"533\" y=\"-141.8\" font-family=\"Helvetica,sans-Serif\" font-size=\"14.00\" fill=\"#000000\">samples = 45</text>\n<text text-anchor=\"middle\" x=\"533\" y=\"-126.8\" font-family=\"Helvetica,sans-Serif\" font-size=\"14.00\" fill=\"#000000\">value = [42, 3, 0]</text>\n<text text-anchor=\"middle\" x=\"533\" y=\"-111.8\" font-family=\"Helvetica,sans-Serif\" font-size=\"14.00\" fill=\"#000000\">class = Gin</text>\n</g>\n<!-- 6&#45;&gt;8 -->\n<g id=\"edge8\" class=\"edge\">\n<title>6&#45;&gt;8</title>\n<path fill=\"none\" stroke=\"#000000\" d=\"M428.31,-222.8796C441.3012,-213.2774 455.219,-202.9903 468.5277,-193.1534\"/>\n<polygon fill=\"#000000\" stroke=\"#000000\" points=\"470.7604,-195.8555 476.7218,-187.0969 466.5996,-190.2263 470.7604,-195.8555\"/>\n</g>\n<!-- 9 -->\n<g id=\"node10\" class=\"node\">\n<title>9</title>\n<path fill=\"#39e581\" stroke=\"#000000\" d=\"M501.5,-68C501.5,-68 410.5,-68 410.5,-68 404.5,-68 398.5,-62 398.5,-56 398.5,-56 398.5,-12 398.5,-12 398.5,-6 404.5,0 410.5,0 410.5,0 501.5,0 501.5,0 507.5,0 513.5,-6 513.5,-12 513.5,-12 513.5,-56 513.5,-56 513.5,-62 507.5,-68 501.5,-68\"/>\n<text text-anchor=\"middle\" x=\"456\" y=\"-52.8\" font-family=\"Helvetica,sans-Serif\" font-size=\"14.00\" fill=\"#000000\">entropy = 0.0</text>\n<text text-anchor=\"middle\" x=\"456\" y=\"-37.8\" font-family=\"Helvetica,sans-Serif\" font-size=\"14.00\" fill=\"#000000\">samples = 3</text>\n<text text-anchor=\"middle\" x=\"456\" y=\"-22.8\" font-family=\"Helvetica,sans-Serif\" font-size=\"14.00\" fill=\"#000000\">value = [0, 3, 0]</text>\n<text text-anchor=\"middle\" x=\"456\" y=\"-7.8\" font-family=\"Helvetica,sans-Serif\" font-size=\"14.00\" fill=\"#000000\">class = Sherry</text>\n</g>\n<!-- 8&#45;&gt;9 -->\n<g id=\"edge9\" class=\"edge\">\n<title>8&#45;&gt;9</title>\n<path fill=\"none\" stroke=\"#000000\" d=\"M504.328,-103.9815C498.1715,-95.0666 491.6557,-85.6313 485.4695,-76.6734\"/>\n<polygon fill=\"#000000\" stroke=\"#000000\" points=\"488.2245,-74.5034 479.6619,-68.2637 482.4645,-78.4811 488.2245,-74.5034\"/>\n</g>\n<!-- 10 -->\n<g id=\"node11\" class=\"node\">\n<title>10</title>\n<path fill=\"#e58139\" stroke=\"#000000\" d=\"M642.5,-68C642.5,-68 543.5,-68 543.5,-68 537.5,-68 531.5,-62 531.5,-56 531.5,-56 531.5,-12 531.5,-12 531.5,-6 537.5,0 543.5,0 543.5,0 642.5,0 642.5,0 648.5,0 654.5,-6 654.5,-12 654.5,-12 654.5,-56 654.5,-56 654.5,-62 648.5,-68 642.5,-68\"/>\n<text text-anchor=\"middle\" x=\"593\" y=\"-52.8\" font-family=\"Helvetica,sans-Serif\" font-size=\"14.00\" fill=\"#000000\">entropy = 0.0</text>\n<text text-anchor=\"middle\" x=\"593\" y=\"-37.8\" font-family=\"Helvetica,sans-Serif\" font-size=\"14.00\" fill=\"#000000\">samples = 42</text>\n<text text-anchor=\"middle\" x=\"593\" y=\"-22.8\" font-family=\"Helvetica,sans-Serif\" font-size=\"14.00\" fill=\"#000000\">value = [42, 0, 0]</text>\n<text text-anchor=\"middle\" x=\"593\" y=\"-7.8\" font-family=\"Helvetica,sans-Serif\" font-size=\"14.00\" fill=\"#000000\">class = Gin</text>\n</g>\n<!-- 8&#45;&gt;10 -->\n<g id=\"edge10\" class=\"edge\">\n<title>8&#45;&gt;10</title>\n<path fill=\"none\" stroke=\"#000000\" d=\"M555.3418,-103.9815C560.0402,-95.2504 565.0071,-86.0202 569.7383,-77.2281\"/>\n<polygon fill=\"#000000\" stroke=\"#000000\" points=\"572.9056,-78.7282 574.5621,-68.2637 566.7414,-75.4111 572.9056,-78.7282\"/>\n</g>\n</g>\n</svg>\n"
          },
          "metadata": {
            "tags": []
          },
          "execution_count": 19
        }
      ]
    },
    {
      "cell_type": "code",
      "metadata": {
        "colab": {
          "base_uri": "https://localhost:8080/"
        },
        "id": "EXmHipgaxjMX",
        "outputId": "50bec8b4-72d8-47e6-be31-e9be0008645e"
      },
      "source": [
        "clf.feature_importances_"
      ],
      "execution_count": null,
      "outputs": [
        {
          "output_type": "execute_result",
          "data": {
            "text/plain": [
              "array([0.        , 0.02407685, 0.        , 0.        , 0.        ,\n",
              "       0.        , 0.42119445, 0.        , 0.        , 0.08163192,\n",
              "       0.13931011, 0.        , 0.33378666])"
            ]
          },
          "metadata": {
            "tags": []
          },
          "execution_count": 20
        }
      ]
    },
    {
      "cell_type": "code",
      "metadata": {
        "colab": {
          "base_uri": "https://localhost:8080/"
        },
        "id": "TzaSsg1hxtKm",
        "outputId": "eeda5cd2-9f6f-4a45-cd99-fe6d7568ceea"
      },
      "source": [
        "[*zip(wine.feature_names,clf.feature_importances_)]"
      ],
      "execution_count": null,
      "outputs": [
        {
          "output_type": "execute_result",
          "data": {
            "text/plain": [
              "[('alcohol', 0.0),\n",
              " ('malic_acid', 0.024076852379931315),\n",
              " ('ash', 0.0),\n",
              " ('alcalinity_of_ash', 0.0),\n",
              " ('magnesium', 0.0),\n",
              " ('total_phenols', 0.0),\n",
              " ('flavanoids', 0.421194449990406),\n",
              " ('nonflavanoid_phenols', 0.0),\n",
              " ('proanthocyanins', 0.0),\n",
              " ('color_intensity', 0.08163192358741928),\n",
              " ('hue', 0.1393101148345778),\n",
              " ('od280/od315_of_diluted_wines', 0.0),\n",
              " ('proline', 0.33378665920766565)]"
            ]
          },
          "metadata": {
            "tags": []
          },
          "execution_count": 21
        }
      ]
    },
    {
      "cell_type": "code",
      "metadata": {
        "colab": {
          "base_uri": "https://localhost:8080/"
        },
        "id": "ApJESlBpx-NZ",
        "outputId": "0004629b-7ce6-4cea-81da-a7fed0e1a167"
      },
      "source": [
        "clf = tree.DecisionTreeClassifier(criterion=\"entropy\"\n",
        "                                  #,random_state=30\n",
        "                                  ,splitter= \"random\" )#splitter: best, will chose the more important feature(higher feature+_importance)\n",
        "                                                              # random, will chose random feature\n",
        "clf = clf.fit(Xtrain, Ytrain)\n",
        "score = clf.score(Xtest,Ytest)\n",
        "score"
      ],
      "execution_count": null,
      "outputs": [
        {
          "output_type": "execute_result",
          "data": {
            "text/plain": [
              "0.9629629629629629"
            ]
          },
          "metadata": {
            "tags": []
          },
          "execution_count": 40
        }
      ]
    },
    {
      "cell_type": "code",
      "metadata": {
        "colab": {
          "base_uri": "https://localhost:8080/",
          "height": 1000
        },
        "id": "I0cZVerQ00cd",
        "outputId": "c3957365-3b0e-475b-b7b9-6ab239888676"
      },
      "source": [
        "import graphviz\n",
        "dot_data = tree.export_graphviz(clf\n",
        "                                ,feature_names = wine.feature_names\n",
        "                                ,class_names = [\"Gin\",\"Sherry\",\"Vermouth\"]\n",
        "                                ,filled = True #filled with color\n",
        "                                ,rounded = True #The box becomes a round box\n",
        "                                )\n",
        "graph = graphviz.Source(dot_data)\n",
        "graph"
      ],
      "execution_count": null,
      "outputs": [
        {
          "output_type": "execute_result",
          "data": {
            "text/plain": [
              "<graphviz.files.Source at 0x7f6ba0e55850>"
            ],
            "image/svg+xml": "<?xml version=\"1.0\" encoding=\"UTF-8\" standalone=\"no\"?>\n<!DOCTYPE svg PUBLIC \"-//W3C//DTD SVG 1.1//EN\"\n \"http://www.w3.org/Graphics/SVG/1.1/DTD/svg11.dtd\">\n<!-- Generated by graphviz version 2.40.1 (20161225.0304)\n -->\n<!-- Title: Tree Pages: 1 -->\n<svg width=\"1261pt\" height=\"790pt\"\n viewBox=\"0.00 0.00 1260.50 790.00\" xmlns=\"http://www.w3.org/2000/svg\" xmlns:xlink=\"http://www.w3.org/1999/xlink\">\n<g id=\"graph0\" class=\"graph\" transform=\"scale(1 1) rotate(0) translate(4 786)\">\n<title>Tree</title>\n<polygon fill=\"#ffffff\" stroke=\"transparent\" points=\"-4,4 -4,-786 1256.5,-786 1256.5,4 -4,4\"/>\n<!-- 0 -->\n<g id=\"node1\" class=\"node\">\n<title>0</title>\n<path fill=\"#f1fdf6\" stroke=\"#000000\" d=\"M517.5,-782C517.5,-782 398.5,-782 398.5,-782 392.5,-782 386.5,-776 386.5,-770 386.5,-770 386.5,-711 386.5,-711 386.5,-705 392.5,-699 398.5,-699 398.5,-699 517.5,-699 517.5,-699 523.5,-699 529.5,-705 529.5,-711 529.5,-711 529.5,-770 529.5,-770 529.5,-776 523.5,-782 517.5,-782\"/>\n<text text-anchor=\"middle\" x=\"458\" y=\"-766.8\" font-family=\"Helvetica,sans-Serif\" font-size=\"14.00\" fill=\"#000000\">flavanoids &lt;= 1.705</text>\n<text text-anchor=\"middle\" x=\"458\" y=\"-751.8\" font-family=\"Helvetica,sans-Serif\" font-size=\"14.00\" fill=\"#000000\">entropy = 1.571</text>\n<text text-anchor=\"middle\" x=\"458\" y=\"-736.8\" font-family=\"Helvetica,sans-Serif\" font-size=\"14.00\" fill=\"#000000\">samples = 124</text>\n<text text-anchor=\"middle\" x=\"458\" y=\"-721.8\" font-family=\"Helvetica,sans-Serif\" font-size=\"14.00\" fill=\"#000000\">value = [42, 48, 34]</text>\n<text text-anchor=\"middle\" x=\"458\" y=\"-706.8\" font-family=\"Helvetica,sans-Serif\" font-size=\"14.00\" fill=\"#000000\">class = Sherry</text>\n</g>\n<!-- 1 -->\n<g id=\"node2\" class=\"node\">\n<title>1</title>\n<path fill=\"#ad7fee\" stroke=\"#000000\" d=\"M427.5,-663C427.5,-663 320.5,-663 320.5,-663 314.5,-663 308.5,-657 308.5,-651 308.5,-651 308.5,-592 308.5,-592 308.5,-586 314.5,-580 320.5,-580 320.5,-580 427.5,-580 427.5,-580 433.5,-580 439.5,-586 439.5,-592 439.5,-592 439.5,-651 439.5,-651 439.5,-657 433.5,-663 427.5,-663\"/>\n<text text-anchor=\"middle\" x=\"374\" y=\"-647.8\" font-family=\"Helvetica,sans-Serif\" font-size=\"14.00\" fill=\"#000000\">hue &lt;= 0.697</text>\n<text text-anchor=\"middle\" x=\"374\" y=\"-632.8\" font-family=\"Helvetica,sans-Serif\" font-size=\"14.00\" fill=\"#000000\">entropy = 0.828</text>\n<text text-anchor=\"middle\" x=\"374\" y=\"-617.8\" font-family=\"Helvetica,sans-Serif\" font-size=\"14.00\" fill=\"#000000\">samples = 46</text>\n<text text-anchor=\"middle\" x=\"374\" y=\"-602.8\" font-family=\"Helvetica,sans-Serif\" font-size=\"14.00\" fill=\"#000000\">value = [0, 12, 34]</text>\n<text text-anchor=\"middle\" x=\"374\" y=\"-587.8\" font-family=\"Helvetica,sans-Serif\" font-size=\"14.00\" fill=\"#000000\">class = Vermouth</text>\n</g>\n<!-- 0&#45;&gt;1 -->\n<g id=\"edge1\" class=\"edge\">\n<title>0&#45;&gt;1</title>\n<path fill=\"none\" stroke=\"#000000\" d=\"M428.6209,-698.8796C422.3906,-690.0534 415.7519,-680.6485 409.327,-671.5466\"/>\n<polygon fill=\"#000000\" stroke=\"#000000\" points=\"412.1308,-669.4494 403.5045,-663.2981 406.412,-673.4862 412.1308,-669.4494\"/>\n<text text-anchor=\"middle\" x=\"399.2568\" y=\"-684.2346\" font-family=\"Helvetica,sans-Serif\" font-size=\"14.00\" fill=\"#000000\">True</text>\n</g>\n<!-- 12 -->\n<g id=\"node13\" class=\"node\">\n<title>12</title>\n<path fill=\"#fbede3\" stroke=\"#000000\" d=\"M712,-663C712,-663 566,-663 566,-663 560,-663 554,-657 554,-651 554,-651 554,-592 554,-592 554,-586 560,-580 566,-580 566,-580 712,-580 712,-580 718,-580 724,-586 724,-592 724,-592 724,-651 724,-651 724,-657 718,-663 712,-663\"/>\n<text text-anchor=\"middle\" x=\"639\" y=\"-647.8\" font-family=\"Helvetica,sans-Serif\" font-size=\"14.00\" fill=\"#000000\">color_intensity &lt;= 4.037</text>\n<text text-anchor=\"middle\" x=\"639\" y=\"-632.8\" font-family=\"Helvetica,sans-Serif\" font-size=\"14.00\" fill=\"#000000\">entropy = 0.996</text>\n<text text-anchor=\"middle\" x=\"639\" y=\"-617.8\" font-family=\"Helvetica,sans-Serif\" font-size=\"14.00\" fill=\"#000000\">samples = 78</text>\n<text text-anchor=\"middle\" x=\"639\" y=\"-602.8\" font-family=\"Helvetica,sans-Serif\" font-size=\"14.00\" fill=\"#000000\">value = [42, 36, 0]</text>\n<text text-anchor=\"middle\" x=\"639\" y=\"-587.8\" font-family=\"Helvetica,sans-Serif\" font-size=\"14.00\" fill=\"#000000\">class = Gin</text>\n</g>\n<!-- 0&#45;&gt;12 -->\n<g id=\"edge12\" class=\"edge\">\n<title>0&#45;&gt;12</title>\n<path fill=\"none\" stroke=\"#000000\" d=\"M521.305,-698.8796C536.1856,-689.0962 552.1476,-678.6019 567.3649,-668.5971\"/>\n<polygon fill=\"#000000\" stroke=\"#000000\" points=\"569.2977,-671.5151 575.7307,-663.0969 565.4521,-665.666 569.2977,-671.5151\"/>\n<text text-anchor=\"middle\" x=\"570.671\" y=\"-683.8796\" font-family=\"Helvetica,sans-Serif\" font-size=\"14.00\" fill=\"#000000\">False</text>\n</g>\n<!-- 2 -->\n<g id=\"node3\" class=\"node\">\n<title>2</title>\n<path fill=\"#8139e5\" stroke=\"#000000\" d=\"M272,-536.5C272,-536.5 168,-536.5 168,-536.5 162,-536.5 156,-530.5 156,-524.5 156,-524.5 156,-480.5 156,-480.5 156,-474.5 162,-468.5 168,-468.5 168,-468.5 272,-468.5 272,-468.5 278,-468.5 284,-474.5 284,-480.5 284,-480.5 284,-524.5 284,-524.5 284,-530.5 278,-536.5 272,-536.5\"/>\n<text text-anchor=\"middle\" x=\"220\" y=\"-521.3\" font-family=\"Helvetica,sans-Serif\" font-size=\"14.00\" fill=\"#000000\">entropy = 0.0</text>\n<text text-anchor=\"middle\" x=\"220\" y=\"-506.3\" font-family=\"Helvetica,sans-Serif\" font-size=\"14.00\" fill=\"#000000\">samples = 18</text>\n<text text-anchor=\"middle\" x=\"220\" y=\"-491.3\" font-family=\"Helvetica,sans-Serif\" font-size=\"14.00\" fill=\"#000000\">value = [0, 0, 18]</text>\n<text text-anchor=\"middle\" x=\"220\" y=\"-476.3\" font-family=\"Helvetica,sans-Serif\" font-size=\"14.00\" fill=\"#000000\">class = Vermouth</text>\n</g>\n<!-- 1&#45;&gt;2 -->\n<g id=\"edge2\" class=\"edge\">\n<title>1&#45;&gt;2</title>\n<path fill=\"none\" stroke=\"#000000\" d=\"M320.1383,-579.8796C304.7696,-568.0038 288.0453,-555.0804 272.7441,-543.2568\"/>\n<polygon fill=\"#000000\" stroke=\"#000000\" points=\"274.4605,-540.1599 264.4076,-536.8149 270.1804,-545.699 274.4605,-540.1599\"/>\n</g>\n<!-- 3 -->\n<g id=\"node4\" class=\"node\">\n<title>3</title>\n<path fill=\"#e0cef8\" stroke=\"#000000\" d=\"M433.5,-544C433.5,-544 314.5,-544 314.5,-544 308.5,-544 302.5,-538 302.5,-532 302.5,-532 302.5,-473 302.5,-473 302.5,-467 308.5,-461 314.5,-461 314.5,-461 433.5,-461 433.5,-461 439.5,-461 445.5,-467 445.5,-473 445.5,-473 445.5,-532 445.5,-532 445.5,-538 439.5,-544 433.5,-544\"/>\n<text text-anchor=\"middle\" x=\"374\" y=\"-528.8\" font-family=\"Helvetica,sans-Serif\" font-size=\"14.00\" fill=\"#000000\">flavanoids &lt;= 1.154</text>\n<text text-anchor=\"middle\" x=\"374\" y=\"-513.8\" font-family=\"Helvetica,sans-Serif\" font-size=\"14.00\" fill=\"#000000\">entropy = 0.985</text>\n<text text-anchor=\"middle\" x=\"374\" y=\"-498.8\" font-family=\"Helvetica,sans-Serif\" font-size=\"14.00\" fill=\"#000000\">samples = 28</text>\n<text text-anchor=\"middle\" x=\"374\" y=\"-483.8\" font-family=\"Helvetica,sans-Serif\" font-size=\"14.00\" fill=\"#000000\">value = [0, 12, 16]</text>\n<text text-anchor=\"middle\" x=\"374\" y=\"-468.8\" font-family=\"Helvetica,sans-Serif\" font-size=\"14.00\" fill=\"#000000\">class = Vermouth</text>\n</g>\n<!-- 1&#45;&gt;3 -->\n<g id=\"edge3\" class=\"edge\">\n<title>1&#45;&gt;3</title>\n<path fill=\"none\" stroke=\"#000000\" d=\"M374,-579.8796C374,-571.6838 374,-562.9891 374,-554.5013\"/>\n<polygon fill=\"#000000\" stroke=\"#000000\" points=\"377.5001,-554.298 374,-544.2981 370.5001,-554.2981 377.5001,-554.298\"/>\n</g>\n<!-- 4 -->\n<g id=\"node5\" class=\"node\">\n<title>4</title>\n<path fill=\"#9355e9\" stroke=\"#000000\" d=\"M271,-425C271,-425 167,-425 167,-425 161,-425 155,-419 155,-413 155,-413 155,-354 155,-354 155,-348 161,-342 167,-342 167,-342 271,-342 271,-342 277,-342 283,-348 283,-354 283,-354 283,-413 283,-413 283,-419 277,-425 271,-425\"/>\n<text text-anchor=\"middle\" x=\"219\" y=\"-409.8\" font-family=\"Helvetica,sans-Serif\" font-size=\"14.00\" fill=\"#000000\">hue &lt;= 0.878</text>\n<text text-anchor=\"middle\" x=\"219\" y=\"-394.8\" font-family=\"Helvetica,sans-Serif\" font-size=\"14.00\" fill=\"#000000\">entropy = 0.544</text>\n<text text-anchor=\"middle\" x=\"219\" y=\"-379.8\" font-family=\"Helvetica,sans-Serif\" font-size=\"14.00\" fill=\"#000000\">samples = 16</text>\n<text text-anchor=\"middle\" x=\"219\" y=\"-364.8\" font-family=\"Helvetica,sans-Serif\" font-size=\"14.00\" fill=\"#000000\">value = [0, 2, 14]</text>\n<text text-anchor=\"middle\" x=\"219\" y=\"-349.8\" font-family=\"Helvetica,sans-Serif\" font-size=\"14.00\" fill=\"#000000\">class = Vermouth</text>\n</g>\n<!-- 3&#45;&gt;4 -->\n<g id=\"edge4\" class=\"edge\">\n<title>3&#45;&gt;4</title>\n<path fill=\"none\" stroke=\"#000000\" d=\"M319.7885,-460.8796C307.3994,-451.368 294.1351,-441.1843 281.4324,-431.432\"/>\n<polygon fill=\"#000000\" stroke=\"#000000\" points=\"283.2442,-428.4105 273.1809,-425.0969 278.9814,-433.9628 283.2442,-428.4105\"/>\n</g>\n<!-- 9 -->\n<g id=\"node10\" class=\"node\">\n<title>9</title>\n<path fill=\"#61ea9a\" stroke=\"#000000\" d=\"M423.5,-425C423.5,-425 324.5,-425 324.5,-425 318.5,-425 312.5,-419 312.5,-413 312.5,-413 312.5,-354 312.5,-354 312.5,-348 318.5,-342 324.5,-342 324.5,-342 423.5,-342 423.5,-342 429.5,-342 435.5,-348 435.5,-354 435.5,-354 435.5,-413 435.5,-413 435.5,-419 429.5,-425 423.5,-425\"/>\n<text text-anchor=\"middle\" x=\"374\" y=\"-409.8\" font-family=\"Helvetica,sans-Serif\" font-size=\"14.00\" fill=\"#000000\">hue &lt;= 0.78</text>\n<text text-anchor=\"middle\" x=\"374\" y=\"-394.8\" font-family=\"Helvetica,sans-Serif\" font-size=\"14.00\" fill=\"#000000\">entropy = 0.65</text>\n<text text-anchor=\"middle\" x=\"374\" y=\"-379.8\" font-family=\"Helvetica,sans-Serif\" font-size=\"14.00\" fill=\"#000000\">samples = 12</text>\n<text text-anchor=\"middle\" x=\"374\" y=\"-364.8\" font-family=\"Helvetica,sans-Serif\" font-size=\"14.00\" fill=\"#000000\">value = [0, 10, 2]</text>\n<text text-anchor=\"middle\" x=\"374\" y=\"-349.8\" font-family=\"Helvetica,sans-Serif\" font-size=\"14.00\" fill=\"#000000\">class = Sherry</text>\n</g>\n<!-- 3&#45;&gt;9 -->\n<g id=\"edge9\" class=\"edge\">\n<title>3&#45;&gt;9</title>\n<path fill=\"none\" stroke=\"#000000\" d=\"M374,-460.8796C374,-452.6838 374,-443.9891 374,-435.5013\"/>\n<polygon fill=\"#000000\" stroke=\"#000000\" points=\"377.5001,-435.298 374,-425.2981 370.5001,-435.2981 377.5001,-435.298\"/>\n</g>\n<!-- 5 -->\n<g id=\"node6\" class=\"node\">\n<title>5</title>\n<path fill=\"#8139e5\" stroke=\"#000000\" d=\"M116,-298.5C116,-298.5 12,-298.5 12,-298.5 6,-298.5 0,-292.5 0,-286.5 0,-286.5 0,-242.5 0,-242.5 0,-236.5 6,-230.5 12,-230.5 12,-230.5 116,-230.5 116,-230.5 122,-230.5 128,-236.5 128,-242.5 128,-242.5 128,-286.5 128,-286.5 128,-292.5 122,-298.5 116,-298.5\"/>\n<text text-anchor=\"middle\" x=\"64\" y=\"-283.3\" font-family=\"Helvetica,sans-Serif\" font-size=\"14.00\" fill=\"#000000\">entropy = 0.0</text>\n<text text-anchor=\"middle\" x=\"64\" y=\"-268.3\" font-family=\"Helvetica,sans-Serif\" font-size=\"14.00\" fill=\"#000000\">samples = 11</text>\n<text text-anchor=\"middle\" x=\"64\" y=\"-253.3\" font-family=\"Helvetica,sans-Serif\" font-size=\"14.00\" fill=\"#000000\">value = [0, 0, 11]</text>\n<text text-anchor=\"middle\" x=\"64\" y=\"-238.3\" font-family=\"Helvetica,sans-Serif\" font-size=\"14.00\" fill=\"#000000\">class = Vermouth</text>\n</g>\n<!-- 4&#45;&gt;5 -->\n<g id=\"edge5\" class=\"edge\">\n<title>4&#45;&gt;5</title>\n<path fill=\"none\" stroke=\"#000000\" d=\"M164.7885,-341.8796C149.1769,-329.8938 132.1753,-316.841 116.6592,-304.9287\"/>\n<polygon fill=\"#000000\" stroke=\"#000000\" points=\"118.7593,-302.1285 108.6959,-298.8149 114.4965,-307.6808 118.7593,-302.1285\"/>\n</g>\n<!-- 6 -->\n<g id=\"node7\" class=\"node\">\n<title>6</title>\n<path fill=\"#d5bdf6\" stroke=\"#000000\" d=\"M280,-306C280,-306 158,-306 158,-306 152,-306 146,-300 146,-294 146,-294 146,-235 146,-235 146,-229 152,-223 158,-223 158,-223 280,-223 280,-223 286,-223 292,-229 292,-235 292,-235 292,-294 292,-294 292,-300 286,-306 280,-306\"/>\n<text text-anchor=\"middle\" x=\"219\" y=\"-290.8\" font-family=\"Helvetica,sans-Serif\" font-size=\"14.00\" fill=\"#000000\">malic_acid &lt;= 2.696</text>\n<text text-anchor=\"middle\" x=\"219\" y=\"-275.8\" font-family=\"Helvetica,sans-Serif\" font-size=\"14.00\" fill=\"#000000\">entropy = 0.971</text>\n<text text-anchor=\"middle\" x=\"219\" y=\"-260.8\" font-family=\"Helvetica,sans-Serif\" font-size=\"14.00\" fill=\"#000000\">samples = 5</text>\n<text text-anchor=\"middle\" x=\"219\" y=\"-245.8\" font-family=\"Helvetica,sans-Serif\" font-size=\"14.00\" fill=\"#000000\">value = [0, 2, 3]</text>\n<text text-anchor=\"middle\" x=\"219\" y=\"-230.8\" font-family=\"Helvetica,sans-Serif\" font-size=\"14.00\" fill=\"#000000\">class = Vermouth</text>\n</g>\n<!-- 4&#45;&gt;6 -->\n<g id=\"edge6\" class=\"edge\">\n<title>4&#45;&gt;6</title>\n<path fill=\"none\" stroke=\"#000000\" d=\"M219,-341.8796C219,-333.6838 219,-324.9891 219,-316.5013\"/>\n<polygon fill=\"#000000\" stroke=\"#000000\" points=\"222.5001,-316.298 219,-306.2981 215.5001,-316.2981 222.5001,-316.298\"/>\n</g>\n<!-- 7 -->\n<g id=\"node8\" class=\"node\">\n<title>7</title>\n<path fill=\"#39e581\" stroke=\"#000000\" d=\"M194.5,-179.5C194.5,-179.5 103.5,-179.5 103.5,-179.5 97.5,-179.5 91.5,-173.5 91.5,-167.5 91.5,-167.5 91.5,-123.5 91.5,-123.5 91.5,-117.5 97.5,-111.5 103.5,-111.5 103.5,-111.5 194.5,-111.5 194.5,-111.5 200.5,-111.5 206.5,-117.5 206.5,-123.5 206.5,-123.5 206.5,-167.5 206.5,-167.5 206.5,-173.5 200.5,-179.5 194.5,-179.5\"/>\n<text text-anchor=\"middle\" x=\"149\" y=\"-164.3\" font-family=\"Helvetica,sans-Serif\" font-size=\"14.00\" fill=\"#000000\">entropy = 0.0</text>\n<text text-anchor=\"middle\" x=\"149\" y=\"-149.3\" font-family=\"Helvetica,sans-Serif\" font-size=\"14.00\" fill=\"#000000\">samples = 2</text>\n<text text-anchor=\"middle\" x=\"149\" y=\"-134.3\" font-family=\"Helvetica,sans-Serif\" font-size=\"14.00\" fill=\"#000000\">value = [0, 2, 0]</text>\n<text text-anchor=\"middle\" x=\"149\" y=\"-119.3\" font-family=\"Helvetica,sans-Serif\" font-size=\"14.00\" fill=\"#000000\">class = Sherry</text>\n</g>\n<!-- 6&#45;&gt;7 -->\n<g id=\"edge7\" class=\"edge\">\n<title>6&#45;&gt;7</title>\n<path fill=\"none\" stroke=\"#000000\" d=\"M194.5174,-222.8796C187.9844,-211.7735 180.9125,-199.7513 174.3348,-188.5691\"/>\n<polygon fill=\"#000000\" stroke=\"#000000\" points=\"177.2723,-186.6597 169.1853,-179.8149 171.2387,-190.2089 177.2723,-186.6597\"/>\n</g>\n<!-- 8 -->\n<g id=\"node9\" class=\"node\">\n<title>8</title>\n<path fill=\"#8139e5\" stroke=\"#000000\" d=\"M341,-179.5C341,-179.5 237,-179.5 237,-179.5 231,-179.5 225,-173.5 225,-167.5 225,-167.5 225,-123.5 225,-123.5 225,-117.5 231,-111.5 237,-111.5 237,-111.5 341,-111.5 341,-111.5 347,-111.5 353,-117.5 353,-123.5 353,-123.5 353,-167.5 353,-167.5 353,-173.5 347,-179.5 341,-179.5\"/>\n<text text-anchor=\"middle\" x=\"289\" y=\"-164.3\" font-family=\"Helvetica,sans-Serif\" font-size=\"14.00\" fill=\"#000000\">entropy = 0.0</text>\n<text text-anchor=\"middle\" x=\"289\" y=\"-149.3\" font-family=\"Helvetica,sans-Serif\" font-size=\"14.00\" fill=\"#000000\">samples = 3</text>\n<text text-anchor=\"middle\" x=\"289\" y=\"-134.3\" font-family=\"Helvetica,sans-Serif\" font-size=\"14.00\" fill=\"#000000\">value = [0, 0, 3]</text>\n<text text-anchor=\"middle\" x=\"289\" y=\"-119.3\" font-family=\"Helvetica,sans-Serif\" font-size=\"14.00\" fill=\"#000000\">class = Vermouth</text>\n</g>\n<!-- 6&#45;&gt;8 -->\n<g id=\"edge8\" class=\"edge\">\n<title>6&#45;&gt;8</title>\n<path fill=\"none\" stroke=\"#000000\" d=\"M243.4826,-222.8796C250.0156,-211.7735 257.0875,-199.7513 263.6652,-188.5691\"/>\n<polygon fill=\"#000000\" stroke=\"#000000\" points=\"266.7613,-190.2089 268.8147,-179.8149 260.7277,-186.6597 266.7613,-190.2089\"/>\n</g>\n<!-- 10 -->\n<g id=\"node11\" class=\"node\">\n<title>10</title>\n<path fill=\"#8139e5\" stroke=\"#000000\" d=\"M426,-298.5C426,-298.5 322,-298.5 322,-298.5 316,-298.5 310,-292.5 310,-286.5 310,-286.5 310,-242.5 310,-242.5 310,-236.5 316,-230.5 322,-230.5 322,-230.5 426,-230.5 426,-230.5 432,-230.5 438,-236.5 438,-242.5 438,-242.5 438,-286.5 438,-286.5 438,-292.5 432,-298.5 426,-298.5\"/>\n<text text-anchor=\"middle\" x=\"374\" y=\"-283.3\" font-family=\"Helvetica,sans-Serif\" font-size=\"14.00\" fill=\"#000000\">entropy = 0.0</text>\n<text text-anchor=\"middle\" x=\"374\" y=\"-268.3\" font-family=\"Helvetica,sans-Serif\" font-size=\"14.00\" fill=\"#000000\">samples = 2</text>\n<text text-anchor=\"middle\" x=\"374\" y=\"-253.3\" font-family=\"Helvetica,sans-Serif\" font-size=\"14.00\" fill=\"#000000\">value = [0, 0, 2]</text>\n<text text-anchor=\"middle\" x=\"374\" y=\"-238.3\" font-family=\"Helvetica,sans-Serif\" font-size=\"14.00\" fill=\"#000000\">class = Vermouth</text>\n</g>\n<!-- 9&#45;&gt;10 -->\n<g id=\"edge10\" class=\"edge\">\n<title>9&#45;&gt;10</title>\n<path fill=\"none\" stroke=\"#000000\" d=\"M374,-341.8796C374,-331.2134 374,-319.7021 374,-308.9015\"/>\n<polygon fill=\"#000000\" stroke=\"#000000\" points=\"377.5001,-308.8149 374,-298.8149 370.5001,-308.815 377.5001,-308.8149\"/>\n</g>\n<!-- 11 -->\n<g id=\"node12\" class=\"node\">\n<title>11</title>\n<path fill=\"#39e581\" stroke=\"#000000\" d=\"M567.5,-298.5C567.5,-298.5 468.5,-298.5 468.5,-298.5 462.5,-298.5 456.5,-292.5 456.5,-286.5 456.5,-286.5 456.5,-242.5 456.5,-242.5 456.5,-236.5 462.5,-230.5 468.5,-230.5 468.5,-230.5 567.5,-230.5 567.5,-230.5 573.5,-230.5 579.5,-236.5 579.5,-242.5 579.5,-242.5 579.5,-286.5 579.5,-286.5 579.5,-292.5 573.5,-298.5 567.5,-298.5\"/>\n<text text-anchor=\"middle\" x=\"518\" y=\"-283.3\" font-family=\"Helvetica,sans-Serif\" font-size=\"14.00\" fill=\"#000000\">entropy = 0.0</text>\n<text text-anchor=\"middle\" x=\"518\" y=\"-268.3\" font-family=\"Helvetica,sans-Serif\" font-size=\"14.00\" fill=\"#000000\">samples = 10</text>\n<text text-anchor=\"middle\" x=\"518\" y=\"-253.3\" font-family=\"Helvetica,sans-Serif\" font-size=\"14.00\" fill=\"#000000\">value = [0, 10, 0]</text>\n<text text-anchor=\"middle\" x=\"518\" y=\"-238.3\" font-family=\"Helvetica,sans-Serif\" font-size=\"14.00\" fill=\"#000000\">class = Sherry</text>\n</g>\n<!-- 9&#45;&gt;11 -->\n<g id=\"edge11\" class=\"edge\">\n<title>9&#45;&gt;11</title>\n<path fill=\"none\" stroke=\"#000000\" d=\"M424.3642,-341.8796C438.7349,-330.0038 454.3733,-317.0804 468.6808,-305.2568\"/>\n<polygon fill=\"#000000\" stroke=\"#000000\" points=\"470.9971,-307.8831 476.476,-298.8149 466.538,-302.4872 470.9971,-307.8831\"/>\n</g>\n<!-- 13 -->\n<g id=\"node14\" class=\"node\">\n<title>13</title>\n<path fill=\"#57e994\" stroke=\"#000000\" d=\"M693,-544C693,-544 585,-544 585,-544 579,-544 573,-538 573,-532 573,-532 573,-473 573,-473 573,-467 579,-461 585,-461 585,-461 693,-461 693,-461 699,-461 705,-467 705,-473 705,-473 705,-532 705,-532 705,-538 699,-544 693,-544\"/>\n<text text-anchor=\"middle\" x=\"639\" y=\"-528.8\" font-family=\"Helvetica,sans-Serif\" font-size=\"14.00\" fill=\"#000000\">alcohol &lt;= 12.815</text>\n<text text-anchor=\"middle\" x=\"639\" y=\"-513.8\" font-family=\"Helvetica,sans-Serif\" font-size=\"14.00\" fill=\"#000000\">entropy = 0.562</text>\n<text text-anchor=\"middle\" x=\"639\" y=\"-498.8\" font-family=\"Helvetica,sans-Serif\" font-size=\"14.00\" fill=\"#000000\">samples = 38</text>\n<text text-anchor=\"middle\" x=\"639\" y=\"-483.8\" font-family=\"Helvetica,sans-Serif\" font-size=\"14.00\" fill=\"#000000\">value = [5, 33, 0]</text>\n<text text-anchor=\"middle\" x=\"639\" y=\"-468.8\" font-family=\"Helvetica,sans-Serif\" font-size=\"14.00\" fill=\"#000000\">class = Sherry</text>\n</g>\n<!-- 12&#45;&gt;13 -->\n<g id=\"edge13\" class=\"edge\">\n<title>12&#45;&gt;13</title>\n<path fill=\"none\" stroke=\"#000000\" d=\"M639,-579.8796C639,-571.6838 639,-562.9891 639,-554.5013\"/>\n<polygon fill=\"#000000\" stroke=\"#000000\" points=\"642.5001,-554.298 639,-544.2981 635.5001,-554.2981 642.5001,-554.298\"/>\n</g>\n<!-- 20 -->\n<g id=\"node21\" class=\"node\">\n<title>20</title>\n<path fill=\"#e78b49\" stroke=\"#000000\" d=\"M1005,-544C1005,-544 897,-544 897,-544 891,-544 885,-538 885,-532 885,-532 885,-473 885,-473 885,-467 891,-461 897,-461 897,-461 1005,-461 1005,-461 1011,-461 1017,-467 1017,-473 1017,-473 1017,-532 1017,-532 1017,-538 1011,-544 1005,-544\"/>\n<text text-anchor=\"middle\" x=\"951\" y=\"-528.8\" font-family=\"Helvetica,sans-Serif\" font-size=\"14.00\" fill=\"#000000\">alcohol &lt;= 12.496</text>\n<text text-anchor=\"middle\" x=\"951\" y=\"-513.8\" font-family=\"Helvetica,sans-Serif\" font-size=\"14.00\" fill=\"#000000\">entropy = 0.384</text>\n<text text-anchor=\"middle\" x=\"951\" y=\"-498.8\" font-family=\"Helvetica,sans-Serif\" font-size=\"14.00\" fill=\"#000000\">samples = 40</text>\n<text text-anchor=\"middle\" x=\"951\" y=\"-483.8\" font-family=\"Helvetica,sans-Serif\" font-size=\"14.00\" fill=\"#000000\">value = [37, 3, 0]</text>\n<text text-anchor=\"middle\" x=\"951\" y=\"-468.8\" font-family=\"Helvetica,sans-Serif\" font-size=\"14.00\" fill=\"#000000\">class = Gin</text>\n</g>\n<!-- 12&#45;&gt;20 -->\n<g id=\"edge20\" class=\"edge\">\n<title>12&#45;&gt;20</title>\n<path fill=\"none\" stroke=\"#000000\" d=\"M724.2554,-588.9827C771.4195,-570.9938 829.5291,-548.8302 875.1133,-531.444\"/>\n<polygon fill=\"#000000\" stroke=\"#000000\" points=\"876.5458,-534.6436 884.6419,-527.8096 874.0512,-528.1032 876.5458,-534.6436\"/>\n</g>\n<!-- 14 -->\n<g id=\"node15\" class=\"node\">\n<title>14</title>\n<path fill=\"#39e581\" stroke=\"#000000\" d=\"M564.5,-417.5C564.5,-417.5 465.5,-417.5 465.5,-417.5 459.5,-417.5 453.5,-411.5 453.5,-405.5 453.5,-405.5 453.5,-361.5 453.5,-361.5 453.5,-355.5 459.5,-349.5 465.5,-349.5 465.5,-349.5 564.5,-349.5 564.5,-349.5 570.5,-349.5 576.5,-355.5 576.5,-361.5 576.5,-361.5 576.5,-405.5 576.5,-405.5 576.5,-411.5 570.5,-417.5 564.5,-417.5\"/>\n<text text-anchor=\"middle\" x=\"515\" y=\"-402.3\" font-family=\"Helvetica,sans-Serif\" font-size=\"14.00\" fill=\"#000000\">entropy = 0.0</text>\n<text text-anchor=\"middle\" x=\"515\" y=\"-387.3\" font-family=\"Helvetica,sans-Serif\" font-size=\"14.00\" fill=\"#000000\">samples = 30</text>\n<text text-anchor=\"middle\" x=\"515\" y=\"-372.3\" font-family=\"Helvetica,sans-Serif\" font-size=\"14.00\" fill=\"#000000\">value = [0, 30, 0]</text>\n<text text-anchor=\"middle\" x=\"515\" y=\"-357.3\" font-family=\"Helvetica,sans-Serif\" font-size=\"14.00\" fill=\"#000000\">class = Sherry</text>\n</g>\n<!-- 13&#45;&gt;14 -->\n<g id=\"edge14\" class=\"edge\">\n<title>13&#45;&gt;14</title>\n<path fill=\"none\" stroke=\"#000000\" d=\"M595.6308,-460.8796C583.4852,-449.2237 570.2881,-436.5587 558.1549,-424.9148\"/>\n<polygon fill=\"#000000\" stroke=\"#000000\" points=\"560.3953,-422.2138 550.7567,-417.8149 555.5484,-427.2643 560.3953,-422.2138\"/>\n</g>\n<!-- 15 -->\n<g id=\"node16\" class=\"node\">\n<title>15</title>\n<path fill=\"#f5cdb0\" stroke=\"#000000\" d=\"M863.5,-425C863.5,-425 606.5,-425 606.5,-425 600.5,-425 594.5,-419 594.5,-413 594.5,-413 594.5,-354 594.5,-354 594.5,-348 600.5,-342 606.5,-342 606.5,-342 863.5,-342 863.5,-342 869.5,-342 875.5,-348 875.5,-354 875.5,-354 875.5,-413 875.5,-413 875.5,-419 869.5,-425 863.5,-425\"/>\n<text text-anchor=\"middle\" x=\"735\" y=\"-409.8\" font-family=\"Helvetica,sans-Serif\" font-size=\"14.00\" fill=\"#000000\">od280/od315_of_diluted_wines &lt;= 3.787</text>\n<text text-anchor=\"middle\" x=\"735\" y=\"-394.8\" font-family=\"Helvetica,sans-Serif\" font-size=\"14.00\" fill=\"#000000\">entropy = 0.954</text>\n<text text-anchor=\"middle\" x=\"735\" y=\"-379.8\" font-family=\"Helvetica,sans-Serif\" font-size=\"14.00\" fill=\"#000000\">samples = 8</text>\n<text text-anchor=\"middle\" x=\"735\" y=\"-364.8\" font-family=\"Helvetica,sans-Serif\" font-size=\"14.00\" fill=\"#000000\">value = [5, 3, 0]</text>\n<text text-anchor=\"middle\" x=\"735\" y=\"-349.8\" font-family=\"Helvetica,sans-Serif\" font-size=\"14.00\" fill=\"#000000\">class = Gin</text>\n</g>\n<!-- 13&#45;&gt;15 -->\n<g id=\"edge15\" class=\"edge\">\n<title>13&#45;&gt;15</title>\n<path fill=\"none\" stroke=\"#000000\" d=\"M672.5761,-460.8796C679.7691,-451.9633 687.4384,-442.4565 694.851,-433.268\"/>\n<polygon fill=\"#000000\" stroke=\"#000000\" points=\"697.7258,-435.2788 701.2805,-425.2981 692.2776,-430.8836 697.7258,-435.2788\"/>\n</g>\n<!-- 16 -->\n<g id=\"node17\" class=\"node\">\n<title>16</title>\n<path fill=\"#ffffff\" stroke=\"#000000\" d=\"M757.5,-306C757.5,-306 644.5,-306 644.5,-306 638.5,-306 632.5,-300 632.5,-294 632.5,-294 632.5,-235 632.5,-235 632.5,-229 638.5,-223 644.5,-223 644.5,-223 757.5,-223 757.5,-223 763.5,-223 769.5,-229 769.5,-235 769.5,-235 769.5,-294 769.5,-294 769.5,-300 763.5,-306 757.5,-306\"/>\n<text text-anchor=\"middle\" x=\"701\" y=\"-290.8\" font-family=\"Helvetica,sans-Serif\" font-size=\"14.00\" fill=\"#000000\">proline &lt;= 639.311</text>\n<text text-anchor=\"middle\" x=\"701\" y=\"-275.8\" font-family=\"Helvetica,sans-Serif\" font-size=\"14.00\" fill=\"#000000\">entropy = 1.0</text>\n<text text-anchor=\"middle\" x=\"701\" y=\"-260.8\" font-family=\"Helvetica,sans-Serif\" font-size=\"14.00\" fill=\"#000000\">samples = 6</text>\n<text text-anchor=\"middle\" x=\"701\" y=\"-245.8\" font-family=\"Helvetica,sans-Serif\" font-size=\"14.00\" fill=\"#000000\">value = [3, 3, 0]</text>\n<text text-anchor=\"middle\" x=\"701\" y=\"-230.8\" font-family=\"Helvetica,sans-Serif\" font-size=\"14.00\" fill=\"#000000\">class = Gin</text>\n</g>\n<!-- 15&#45;&gt;16 -->\n<g id=\"edge16\" class=\"edge\">\n<title>15&#45;&gt;16</title>\n<path fill=\"none\" stroke=\"#000000\" d=\"M723.1084,-341.8796C720.7153,-333.5037 718.1733,-324.6067 715.6977,-315.942\"/>\n<polygon fill=\"#000000\" stroke=\"#000000\" points=\"719.0549,-314.9518 712.9423,-306.2981 712.3243,-316.8749 719.0549,-314.9518\"/>\n</g>\n<!-- 19 -->\n<g id=\"node20\" class=\"node\">\n<title>19</title>\n<path fill=\"#e58139\" stroke=\"#000000\" d=\"M890.5,-298.5C890.5,-298.5 799.5,-298.5 799.5,-298.5 793.5,-298.5 787.5,-292.5 787.5,-286.5 787.5,-286.5 787.5,-242.5 787.5,-242.5 787.5,-236.5 793.5,-230.5 799.5,-230.5 799.5,-230.5 890.5,-230.5 890.5,-230.5 896.5,-230.5 902.5,-236.5 902.5,-242.5 902.5,-242.5 902.5,-286.5 902.5,-286.5 902.5,-292.5 896.5,-298.5 890.5,-298.5\"/>\n<text text-anchor=\"middle\" x=\"845\" y=\"-283.3\" font-family=\"Helvetica,sans-Serif\" font-size=\"14.00\" fill=\"#000000\">entropy = 0.0</text>\n<text text-anchor=\"middle\" x=\"845\" y=\"-268.3\" font-family=\"Helvetica,sans-Serif\" font-size=\"14.00\" fill=\"#000000\">samples = 2</text>\n<text text-anchor=\"middle\" x=\"845\" y=\"-253.3\" font-family=\"Helvetica,sans-Serif\" font-size=\"14.00\" fill=\"#000000\">value = [2, 0, 0]</text>\n<text text-anchor=\"middle\" x=\"845\" y=\"-238.3\" font-family=\"Helvetica,sans-Serif\" font-size=\"14.00\" fill=\"#000000\">class = Gin</text>\n</g>\n<!-- 15&#45;&gt;19 -->\n<g id=\"edge19\" class=\"edge\">\n<title>15&#45;&gt;19</title>\n<path fill=\"none\" stroke=\"#000000\" d=\"M773.4727,-341.8796C784.1453,-330.3337 795.7333,-317.7976 806.4125,-306.2446\"/>\n<polygon fill=\"#000000\" stroke=\"#000000\" points=\"809.0625,-308.534 813.2803,-298.8149 803.9222,-303.7825 809.0625,-308.534\"/>\n</g>\n<!-- 17 -->\n<g id=\"node18\" class=\"node\">\n<title>17</title>\n<path fill=\"#39e581\" stroke=\"#000000\" d=\"M666.5,-179.5C666.5,-179.5 575.5,-179.5 575.5,-179.5 569.5,-179.5 563.5,-173.5 563.5,-167.5 563.5,-167.5 563.5,-123.5 563.5,-123.5 563.5,-117.5 569.5,-111.5 575.5,-111.5 575.5,-111.5 666.5,-111.5 666.5,-111.5 672.5,-111.5 678.5,-117.5 678.5,-123.5 678.5,-123.5 678.5,-167.5 678.5,-167.5 678.5,-173.5 672.5,-179.5 666.5,-179.5\"/>\n<text text-anchor=\"middle\" x=\"621\" y=\"-164.3\" font-family=\"Helvetica,sans-Serif\" font-size=\"14.00\" fill=\"#000000\">entropy = 0.0</text>\n<text text-anchor=\"middle\" x=\"621\" y=\"-149.3\" font-family=\"Helvetica,sans-Serif\" font-size=\"14.00\" fill=\"#000000\">samples = 3</text>\n<text text-anchor=\"middle\" x=\"621\" y=\"-134.3\" font-family=\"Helvetica,sans-Serif\" font-size=\"14.00\" fill=\"#000000\">value = [0, 3, 0]</text>\n<text text-anchor=\"middle\" x=\"621\" y=\"-119.3\" font-family=\"Helvetica,sans-Serif\" font-size=\"14.00\" fill=\"#000000\">class = Sherry</text>\n</g>\n<!-- 16&#45;&gt;17 -->\n<g id=\"edge17\" class=\"edge\">\n<title>16&#45;&gt;17</title>\n<path fill=\"none\" stroke=\"#000000\" d=\"M673.0199,-222.8796C665.4797,-211.6636 657.3113,-199.5131 649.7309,-188.2372\"/>\n<polygon fill=\"#000000\" stroke=\"#000000\" points=\"652.5527,-186.1612 644.0689,-179.8149 646.7434,-190.0667 652.5527,-186.1612\"/>\n</g>\n<!-- 18 -->\n<g id=\"node19\" class=\"node\">\n<title>18</title>\n<path fill=\"#e58139\" stroke=\"#000000\" d=\"M799.5,-179.5C799.5,-179.5 708.5,-179.5 708.5,-179.5 702.5,-179.5 696.5,-173.5 696.5,-167.5 696.5,-167.5 696.5,-123.5 696.5,-123.5 696.5,-117.5 702.5,-111.5 708.5,-111.5 708.5,-111.5 799.5,-111.5 799.5,-111.5 805.5,-111.5 811.5,-117.5 811.5,-123.5 811.5,-123.5 811.5,-167.5 811.5,-167.5 811.5,-173.5 805.5,-179.5 799.5,-179.5\"/>\n<text text-anchor=\"middle\" x=\"754\" y=\"-164.3\" font-family=\"Helvetica,sans-Serif\" font-size=\"14.00\" fill=\"#000000\">entropy = 0.0</text>\n<text text-anchor=\"middle\" x=\"754\" y=\"-149.3\" font-family=\"Helvetica,sans-Serif\" font-size=\"14.00\" fill=\"#000000\">samples = 3</text>\n<text text-anchor=\"middle\" x=\"754\" y=\"-134.3\" font-family=\"Helvetica,sans-Serif\" font-size=\"14.00\" fill=\"#000000\">value = [3, 0, 0]</text>\n<text text-anchor=\"middle\" x=\"754\" y=\"-119.3\" font-family=\"Helvetica,sans-Serif\" font-size=\"14.00\" fill=\"#000000\">class = Gin</text>\n</g>\n<!-- 16&#45;&gt;18 -->\n<g id=\"edge18\" class=\"edge\">\n<title>16&#45;&gt;18</title>\n<path fill=\"none\" stroke=\"#000000\" d=\"M719.5368,-222.8796C724.3853,-211.9935 729.6258,-200.227 734.5217,-189.2344\"/>\n<polygon fill=\"#000000\" stroke=\"#000000\" points=\"737.8455,-190.3739 738.7169,-179.8149 731.4511,-187.5259 737.8455,-190.3739\"/>\n</g>\n<!-- 21 -->\n<g id=\"node22\" class=\"node\">\n<title>21</title>\n<path fill=\"#39e581\" stroke=\"#000000\" d=\"M996.5,-417.5C996.5,-417.5 905.5,-417.5 905.5,-417.5 899.5,-417.5 893.5,-411.5 893.5,-405.5 893.5,-405.5 893.5,-361.5 893.5,-361.5 893.5,-355.5 899.5,-349.5 905.5,-349.5 905.5,-349.5 996.5,-349.5 996.5,-349.5 1002.5,-349.5 1008.5,-355.5 1008.5,-361.5 1008.5,-361.5 1008.5,-405.5 1008.5,-405.5 1008.5,-411.5 1002.5,-417.5 996.5,-417.5\"/>\n<text text-anchor=\"middle\" x=\"951\" y=\"-402.3\" font-family=\"Helvetica,sans-Serif\" font-size=\"14.00\" fill=\"#000000\">entropy = 0.0</text>\n<text text-anchor=\"middle\" x=\"951\" y=\"-387.3\" font-family=\"Helvetica,sans-Serif\" font-size=\"14.00\" fill=\"#000000\">samples = 2</text>\n<text text-anchor=\"middle\" x=\"951\" y=\"-372.3\" font-family=\"Helvetica,sans-Serif\" font-size=\"14.00\" fill=\"#000000\">value = [0, 2, 0]</text>\n<text text-anchor=\"middle\" x=\"951\" y=\"-357.3\" font-family=\"Helvetica,sans-Serif\" font-size=\"14.00\" fill=\"#000000\">class = Sherry</text>\n</g>\n<!-- 20&#45;&gt;21 -->\n<g id=\"edge21\" class=\"edge\">\n<title>20&#45;&gt;21</title>\n<path fill=\"none\" stroke=\"#000000\" d=\"M951,-460.8796C951,-450.2134 951,-438.7021 951,-427.9015\"/>\n<polygon fill=\"#000000\" stroke=\"#000000\" points=\"954.5001,-427.8149 951,-417.8149 947.5001,-427.815 954.5001,-427.8149\"/>\n</g>\n<!-- 22 -->\n<g id=\"node23\" class=\"node\">\n<title>22</title>\n<path fill=\"#e6843e\" stroke=\"#000000\" d=\"M1151.5,-425C1151.5,-425 1038.5,-425 1038.5,-425 1032.5,-425 1026.5,-419 1026.5,-413 1026.5,-413 1026.5,-354 1026.5,-354 1026.5,-348 1032.5,-342 1038.5,-342 1038.5,-342 1151.5,-342 1151.5,-342 1157.5,-342 1163.5,-348 1163.5,-354 1163.5,-354 1163.5,-413 1163.5,-413 1163.5,-419 1157.5,-425 1151.5,-425\"/>\n<text text-anchor=\"middle\" x=\"1095\" y=\"-409.8\" font-family=\"Helvetica,sans-Serif\" font-size=\"14.00\" fill=\"#000000\">proline &lt;= 1039.73</text>\n<text text-anchor=\"middle\" x=\"1095\" y=\"-394.8\" font-family=\"Helvetica,sans-Serif\" font-size=\"14.00\" fill=\"#000000\">entropy = 0.176</text>\n<text text-anchor=\"middle\" x=\"1095\" y=\"-379.8\" font-family=\"Helvetica,sans-Serif\" font-size=\"14.00\" fill=\"#000000\">samples = 38</text>\n<text text-anchor=\"middle\" x=\"1095\" y=\"-364.8\" font-family=\"Helvetica,sans-Serif\" font-size=\"14.00\" fill=\"#000000\">value = [37, 1, 0]</text>\n<text text-anchor=\"middle\" x=\"1095\" y=\"-349.8\" font-family=\"Helvetica,sans-Serif\" font-size=\"14.00\" fill=\"#000000\">class = Gin</text>\n</g>\n<!-- 20&#45;&gt;22 -->\n<g id=\"edge22\" class=\"edge\">\n<title>20&#45;&gt;22</title>\n<path fill=\"none\" stroke=\"#000000\" d=\"M1001.3642,-460.8796C1012.6985,-451.513 1024.8215,-441.4948 1036.4581,-431.8784\"/>\n<polygon fill=\"#000000\" stroke=\"#000000\" points=\"1038.9419,-434.3663 1044.4208,-425.2981 1034.4827,-428.9703 1038.9419,-434.3663\"/>\n</g>\n<!-- 23 -->\n<g id=\"node24\" class=\"node\">\n<title>23</title>\n<path fill=\"#e88e4d\" stroke=\"#000000\" d=\"M1099.5,-306C1099.5,-306 962.5,-306 962.5,-306 956.5,-306 950.5,-300 950.5,-294 950.5,-294 950.5,-235 950.5,-235 950.5,-229 956.5,-223 962.5,-223 962.5,-223 1099.5,-223 1099.5,-223 1105.5,-223 1111.5,-229 1111.5,-235 1111.5,-235 1111.5,-294 1111.5,-294 1111.5,-300 1105.5,-306 1099.5,-306\"/>\n<text text-anchor=\"middle\" x=\"1031\" y=\"-290.8\" font-family=\"Helvetica,sans-Serif\" font-size=\"14.00\" fill=\"#000000\">magnesium &lt;= 94.554</text>\n<text text-anchor=\"middle\" x=\"1031\" y=\"-275.8\" font-family=\"Helvetica,sans-Serif\" font-size=\"14.00\" fill=\"#000000\">entropy = 0.439</text>\n<text text-anchor=\"middle\" x=\"1031\" y=\"-260.8\" font-family=\"Helvetica,sans-Serif\" font-size=\"14.00\" fill=\"#000000\">samples = 11</text>\n<text text-anchor=\"middle\" x=\"1031\" y=\"-245.8\" font-family=\"Helvetica,sans-Serif\" font-size=\"14.00\" fill=\"#000000\">value = [10, 1, 0]</text>\n<text text-anchor=\"middle\" x=\"1031\" y=\"-230.8\" font-family=\"Helvetica,sans-Serif\" font-size=\"14.00\" fill=\"#000000\">class = Gin</text>\n</g>\n<!-- 22&#45;&gt;23 -->\n<g id=\"edge23\" class=\"edge\">\n<title>22&#45;&gt;23</title>\n<path fill=\"none\" stroke=\"#000000\" d=\"M1072.6159,-341.8796C1068.0144,-333.3236 1063.1204,-324.2238 1058.3658,-315.3833\"/>\n<polygon fill=\"#000000\" stroke=\"#000000\" points=\"1061.2988,-313.4473 1053.4796,-306.2981 1055.1338,-316.763 1061.2988,-313.4473\"/>\n</g>\n<!-- 28 -->\n<g id=\"node29\" class=\"node\">\n<title>28</title>\n<path fill=\"#e58139\" stroke=\"#000000\" d=\"M1240.5,-298.5C1240.5,-298.5 1141.5,-298.5 1141.5,-298.5 1135.5,-298.5 1129.5,-292.5 1129.5,-286.5 1129.5,-286.5 1129.5,-242.5 1129.5,-242.5 1129.5,-236.5 1135.5,-230.5 1141.5,-230.5 1141.5,-230.5 1240.5,-230.5 1240.5,-230.5 1246.5,-230.5 1252.5,-236.5 1252.5,-242.5 1252.5,-242.5 1252.5,-286.5 1252.5,-286.5 1252.5,-292.5 1246.5,-298.5 1240.5,-298.5\"/>\n<text text-anchor=\"middle\" x=\"1191\" y=\"-283.3\" font-family=\"Helvetica,sans-Serif\" font-size=\"14.00\" fill=\"#000000\">entropy = 0.0</text>\n<text text-anchor=\"middle\" x=\"1191\" y=\"-268.3\" font-family=\"Helvetica,sans-Serif\" font-size=\"14.00\" fill=\"#000000\">samples = 27</text>\n<text text-anchor=\"middle\" x=\"1191\" y=\"-253.3\" font-family=\"Helvetica,sans-Serif\" font-size=\"14.00\" fill=\"#000000\">value = [27, 0, 0]</text>\n<text text-anchor=\"middle\" x=\"1191\" y=\"-238.3\" font-family=\"Helvetica,sans-Serif\" font-size=\"14.00\" fill=\"#000000\">class = Gin</text>\n</g>\n<!-- 22&#45;&gt;28 -->\n<g id=\"edge28\" class=\"edge\">\n<title>22&#45;&gt;28</title>\n<path fill=\"none\" stroke=\"#000000\" d=\"M1128.5761,-341.8796C1137.7131,-330.5536 1147.6187,-318.2748 1156.7902,-306.9058\"/>\n<polygon fill=\"#000000\" stroke=\"#000000\" points=\"1159.7626,-308.7957 1163.3174,-298.8149 1154.3144,-304.4005 1159.7626,-308.7957\"/>\n</g>\n<!-- 24 -->\n<g id=\"node25\" class=\"node\">\n<title>24</title>\n<path fill=\"#ffffff\" stroke=\"#000000\" d=\"M1017,-187C1017,-187 895,-187 895,-187 889,-187 883,-181 883,-175 883,-175 883,-116 883,-116 883,-110 889,-104 895,-104 895,-104 1017,-104 1017,-104 1023,-104 1029,-110 1029,-116 1029,-116 1029,-175 1029,-175 1029,-181 1023,-187 1017,-187\"/>\n<text text-anchor=\"middle\" x=\"956\" y=\"-171.8\" font-family=\"Helvetica,sans-Serif\" font-size=\"14.00\" fill=\"#000000\">malic_acid &lt;= 2.709</text>\n<text text-anchor=\"middle\" x=\"956\" y=\"-156.8\" font-family=\"Helvetica,sans-Serif\" font-size=\"14.00\" fill=\"#000000\">entropy = 1.0</text>\n<text text-anchor=\"middle\" x=\"956\" y=\"-141.8\" font-family=\"Helvetica,sans-Serif\" font-size=\"14.00\" fill=\"#000000\">samples = 2</text>\n<text text-anchor=\"middle\" x=\"956\" y=\"-126.8\" font-family=\"Helvetica,sans-Serif\" font-size=\"14.00\" fill=\"#000000\">value = [1, 1, 0]</text>\n<text text-anchor=\"middle\" x=\"956\" y=\"-111.8\" font-family=\"Helvetica,sans-Serif\" font-size=\"14.00\" fill=\"#000000\">class = Gin</text>\n</g>\n<!-- 23&#45;&gt;24 -->\n<g id=\"edge24\" class=\"edge\">\n<title>23&#45;&gt;24</title>\n<path fill=\"none\" stroke=\"#000000\" d=\"M1004.7686,-222.8796C999.2627,-214.1434 993.3994,-204.8404 987.7176,-195.8253\"/>\n<polygon fill=\"#000000\" stroke=\"#000000\" points=\"990.6363,-193.8919 982.3433,-187.2981 984.7143,-197.6242 990.6363,-193.8919\"/>\n</g>\n<!-- 27 -->\n<g id=\"node28\" class=\"node\">\n<title>27</title>\n<path fill=\"#e58139\" stroke=\"#000000\" d=\"M1150.5,-179.5C1150.5,-179.5 1059.5,-179.5 1059.5,-179.5 1053.5,-179.5 1047.5,-173.5 1047.5,-167.5 1047.5,-167.5 1047.5,-123.5 1047.5,-123.5 1047.5,-117.5 1053.5,-111.5 1059.5,-111.5 1059.5,-111.5 1150.5,-111.5 1150.5,-111.5 1156.5,-111.5 1162.5,-117.5 1162.5,-123.5 1162.5,-123.5 1162.5,-167.5 1162.5,-167.5 1162.5,-173.5 1156.5,-179.5 1150.5,-179.5\"/>\n<text text-anchor=\"middle\" x=\"1105\" y=\"-164.3\" font-family=\"Helvetica,sans-Serif\" font-size=\"14.00\" fill=\"#000000\">entropy = 0.0</text>\n<text text-anchor=\"middle\" x=\"1105\" y=\"-149.3\" font-family=\"Helvetica,sans-Serif\" font-size=\"14.00\" fill=\"#000000\">samples = 9</text>\n<text text-anchor=\"middle\" x=\"1105\" y=\"-134.3\" font-family=\"Helvetica,sans-Serif\" font-size=\"14.00\" fill=\"#000000\">value = [9, 0, 0]</text>\n<text text-anchor=\"middle\" x=\"1105\" y=\"-119.3\" font-family=\"Helvetica,sans-Serif\" font-size=\"14.00\" fill=\"#000000\">class = Gin</text>\n</g>\n<!-- 23&#45;&gt;27 -->\n<g id=\"edge27\" class=\"edge\">\n<title>23&#45;&gt;27</title>\n<path fill=\"none\" stroke=\"#000000\" d=\"M1056.8816,-222.8796C1063.7879,-211.7735 1071.2639,-199.7513 1078.2175,-188.5691\"/>\n<polygon fill=\"#000000\" stroke=\"#000000\" points=\"1081.3527,-190.1552 1083.6613,-179.8149 1075.4083,-186.4587 1081.3527,-190.1552\"/>\n</g>\n<!-- 25 -->\n<g id=\"node26\" class=\"node\">\n<title>25</title>\n<path fill=\"#39e581\" stroke=\"#000000\" d=\"M934.5,-68C934.5,-68 843.5,-68 843.5,-68 837.5,-68 831.5,-62 831.5,-56 831.5,-56 831.5,-12 831.5,-12 831.5,-6 837.5,0 843.5,0 843.5,0 934.5,0 934.5,0 940.5,0 946.5,-6 946.5,-12 946.5,-12 946.5,-56 946.5,-56 946.5,-62 940.5,-68 934.5,-68\"/>\n<text text-anchor=\"middle\" x=\"889\" y=\"-52.8\" font-family=\"Helvetica,sans-Serif\" font-size=\"14.00\" fill=\"#000000\">entropy = 0.0</text>\n<text text-anchor=\"middle\" x=\"889\" y=\"-37.8\" font-family=\"Helvetica,sans-Serif\" font-size=\"14.00\" fill=\"#000000\">samples = 1</text>\n<text text-anchor=\"middle\" x=\"889\" y=\"-22.8\" font-family=\"Helvetica,sans-Serif\" font-size=\"14.00\" fill=\"#000000\">value = [0, 1, 0]</text>\n<text text-anchor=\"middle\" x=\"889\" y=\"-7.8\" font-family=\"Helvetica,sans-Serif\" font-size=\"14.00\" fill=\"#000000\">class = Sherry</text>\n</g>\n<!-- 24&#45;&gt;25 -->\n<g id=\"edge25\" class=\"edge\">\n<title>24&#45;&gt;25</title>\n<path fill=\"none\" stroke=\"#000000\" d=\"M931.0517,-103.9815C925.7499,-95.1585 920.1419,-85.8258 914.8089,-76.9506\"/>\n<polygon fill=\"#000000\" stroke=\"#000000\" points=\"917.7396,-75.0325 909.5889,-68.2637 911.7395,-78.638 917.7396,-75.0325\"/>\n</g>\n<!-- 26 -->\n<g id=\"node27\" class=\"node\">\n<title>26</title>\n<path fill=\"#e58139\" stroke=\"#000000\" d=\"M1067.5,-68C1067.5,-68 976.5,-68 976.5,-68 970.5,-68 964.5,-62 964.5,-56 964.5,-56 964.5,-12 964.5,-12 964.5,-6 970.5,0 976.5,0 976.5,0 1067.5,0 1067.5,0 1073.5,0 1079.5,-6 1079.5,-12 1079.5,-12 1079.5,-56 1079.5,-56 1079.5,-62 1073.5,-68 1067.5,-68\"/>\n<text text-anchor=\"middle\" x=\"1022\" y=\"-52.8\" font-family=\"Helvetica,sans-Serif\" font-size=\"14.00\" fill=\"#000000\">entropy = 0.0</text>\n<text text-anchor=\"middle\" x=\"1022\" y=\"-37.8\" font-family=\"Helvetica,sans-Serif\" font-size=\"14.00\" fill=\"#000000\">samples = 1</text>\n<text text-anchor=\"middle\" x=\"1022\" y=\"-22.8\" font-family=\"Helvetica,sans-Serif\" font-size=\"14.00\" fill=\"#000000\">value = [1, 0, 0]</text>\n<text text-anchor=\"middle\" x=\"1022\" y=\"-7.8\" font-family=\"Helvetica,sans-Serif\" font-size=\"14.00\" fill=\"#000000\">class = Gin</text>\n</g>\n<!-- 24&#45;&gt;26 -->\n<g id=\"edge26\" class=\"edge\">\n<title>24&#45;&gt;26</title>\n<path fill=\"none\" stroke=\"#000000\" d=\"M980.576,-103.9815C985.7986,-95.1585 991.3229,-85.8258 996.5763,-76.9506\"/>\n<polygon fill=\"#000000\" stroke=\"#000000\" points=\"999.6364,-78.652 1001.7184,-68.2637 993.6126,-75.0863 999.6364,-78.652\"/>\n</g>\n</g>\n</svg>\n"
          },
          "metadata": {
            "tags": []
          },
          "execution_count": 41
        }
      ]
    },
    {
      "cell_type": "code",
      "metadata": {
        "colab": {
          "base_uri": "https://localhost:8080/"
        },
        "id": "kEewBXI91d6y",
        "outputId": "7d5fbe0d-4c11-45b9-ca5f-12bed3f44ce2"
      },
      "source": [
        "#Prevent overfitting\n",
        "score_train = clf.score(Xtrain,Ytrain)\n",
        "score_train"
      ],
      "execution_count": null,
      "outputs": [
        {
          "output_type": "execute_result",
          "data": {
            "text/plain": [
              "1.0"
            ]
          },
          "metadata": {
            "tags": []
          },
          "execution_count": 42
        }
      ]
    },
    {
      "cell_type": "code",
      "metadata": {
        "id": "wZR_DyCY2SzB",
        "colab": {
          "base_uri": "https://localhost:8080/",
          "height": 618
        },
        "outputId": "feb349ad-37f3-4d0c-bf62-4d17d8a84a3a"
      },
      "source": [
        "#max_depth start from 3; min_sample_leaf: sample number in leaf,start from 5; min_sampel_split: unless fix number that the leaf could be splitted\n",
        "clf = tree.DecisionTreeClassifier(criterion=\"entropy\"\n",
        "                                  ,random_state=30\n",
        "                                  ,splitter= \"random\"\n",
        "                                  ,max_depth=3 \n",
        "                                  ,min_samples_split=10\n",
        "                                  ,min_samples_leaf=10)\n",
        "clf = clf.fit(Xtrain, Ytrain)\n",
        "dot_data = tree.export_graphviz(clf\n",
        "                                ,feature_names = wine.feature_names\n",
        "                                ,class_names = [\"Gin\",\"Sherry\",\"Vermouth\"]\n",
        "                                ,filled = True #filled with color\n",
        "                                ,rounded = True #The box becomes a round box\n",
        "                                )\n",
        "graph = graphviz.Source(dot_data)\n",
        "graph"
      ],
      "execution_count": null,
      "outputs": [
        {
          "output_type": "execute_result",
          "data": {
            "text/plain": [
              "<graphviz.files.Source at 0x7f6ba0e09d10>"
            ],
            "image/svg+xml": "<?xml version=\"1.0\" encoding=\"UTF-8\" standalone=\"no\"?>\n<!DOCTYPE svg PUBLIC \"-//W3C//DTD SVG 1.1//EN\"\n \"http://www.w3.org/Graphics/SVG/1.1/DTD/svg11.dtd\">\n<!-- Generated by graphviz version 2.40.1 (20161225.0304)\n -->\n<!-- Title: Tree Pages: 1 -->\n<svg width=\"906pt\" height=\"433pt\"\n viewBox=\"0.00 0.00 905.50 433.00\" xmlns=\"http://www.w3.org/2000/svg\" xmlns:xlink=\"http://www.w3.org/1999/xlink\">\n<g id=\"graph0\" class=\"graph\" transform=\"scale(1 1) rotate(0) translate(4 429)\">\n<title>Tree</title>\n<polygon fill=\"#ffffff\" stroke=\"transparent\" points=\"-4,4 -4,-429 901.5,-429 901.5,4 -4,4\"/>\n<!-- 0 -->\n<g id=\"node1\" class=\"node\">\n<title>0</title>\n<path fill=\"#f1fdf6\" stroke=\"#000000\" d=\"M545.5,-425C545.5,-425 426.5,-425 426.5,-425 420.5,-425 414.5,-419 414.5,-413 414.5,-413 414.5,-354 414.5,-354 414.5,-348 420.5,-342 426.5,-342 426.5,-342 545.5,-342 545.5,-342 551.5,-342 557.5,-348 557.5,-354 557.5,-354 557.5,-413 557.5,-413 557.5,-419 551.5,-425 545.5,-425\"/>\n<text text-anchor=\"middle\" x=\"486\" y=\"-409.8\" font-family=\"Helvetica,sans-Serif\" font-size=\"14.00\" fill=\"#000000\">flavanoids &lt;= 2.234</text>\n<text text-anchor=\"middle\" x=\"486\" y=\"-394.8\" font-family=\"Helvetica,sans-Serif\" font-size=\"14.00\" fill=\"#000000\">entropy = 1.571</text>\n<text text-anchor=\"middle\" x=\"486\" y=\"-379.8\" font-family=\"Helvetica,sans-Serif\" font-size=\"14.00\" fill=\"#000000\">samples = 124</text>\n<text text-anchor=\"middle\" x=\"486\" y=\"-364.8\" font-family=\"Helvetica,sans-Serif\" font-size=\"14.00\" fill=\"#000000\">value = [42, 48, 34]</text>\n<text text-anchor=\"middle\" x=\"486\" y=\"-349.8\" font-family=\"Helvetica,sans-Serif\" font-size=\"14.00\" fill=\"#000000\">class = Sherry</text>\n</g>\n<!-- 1 -->\n<g id=\"node2\" class=\"node\">\n<title>1</title>\n<path fill=\"#e6d7fa\" stroke=\"#000000\" d=\"M501.5,-306C501.5,-306 244.5,-306 244.5,-306 238.5,-306 232.5,-300 232.5,-294 232.5,-294 232.5,-235 232.5,-235 232.5,-229 238.5,-223 244.5,-223 244.5,-223 501.5,-223 501.5,-223 507.5,-223 513.5,-229 513.5,-235 513.5,-235 513.5,-294 513.5,-294 513.5,-300 507.5,-306 501.5,-306\"/>\n<text text-anchor=\"middle\" x=\"373\" y=\"-290.8\" font-family=\"Helvetica,sans-Serif\" font-size=\"14.00\" fill=\"#000000\">od280/od315_of_diluted_wines &lt;= 2.222</text>\n<text text-anchor=\"middle\" x=\"373\" y=\"-275.8\" font-family=\"Helvetica,sans-Serif\" font-size=\"14.00\" fill=\"#000000\">entropy = 1.094</text>\n<text text-anchor=\"middle\" x=\"373\" y=\"-260.8\" font-family=\"Helvetica,sans-Serif\" font-size=\"14.00\" fill=\"#000000\">samples = 62</text>\n<text text-anchor=\"middle\" x=\"373\" y=\"-245.8\" font-family=\"Helvetica,sans-Serif\" font-size=\"14.00\" fill=\"#000000\">value = [1, 27, 34]</text>\n<text text-anchor=\"middle\" x=\"373\" y=\"-230.8\" font-family=\"Helvetica,sans-Serif\" font-size=\"14.00\" fill=\"#000000\">class = Vermouth</text>\n</g>\n<!-- 0&#45;&gt;1 -->\n<g id=\"edge1\" class=\"edge\">\n<title>0&#45;&gt;1</title>\n<path fill=\"none\" stroke=\"#000000\" d=\"M446.4781,-341.8796C437.8403,-332.7832 428.619,-323.0722 419.7303,-313.7116\"/>\n<polygon fill=\"#000000\" stroke=\"#000000\" points=\"422.1146,-311.1395 412.6906,-306.2981 417.0385,-315.9597 422.1146,-311.1395\"/>\n<text text-anchor=\"middle\" x=\"412.0443\" y=\"-327.5897\" font-family=\"Helvetica,sans-Serif\" font-size=\"14.00\" fill=\"#000000\">True</text>\n</g>\n<!-- 8 -->\n<g id=\"node9\" class=\"node\">\n<title>8</title>\n<path fill=\"#f2c29e\" stroke=\"#000000\" d=\"M656.5,-306C656.5,-306 543.5,-306 543.5,-306 537.5,-306 531.5,-300 531.5,-294 531.5,-294 531.5,-235 531.5,-235 531.5,-229 537.5,-223 543.5,-223 543.5,-223 656.5,-223 656.5,-223 662.5,-223 668.5,-229 668.5,-235 668.5,-235 668.5,-294 668.5,-294 668.5,-300 662.5,-306 656.5,-306\"/>\n<text text-anchor=\"middle\" x=\"600\" y=\"-290.8\" font-family=\"Helvetica,sans-Serif\" font-size=\"14.00\" fill=\"#000000\">proline &lt;= 558.218</text>\n<text text-anchor=\"middle\" x=\"600\" y=\"-275.8\" font-family=\"Helvetica,sans-Serif\" font-size=\"14.00\" fill=\"#000000\">entropy = 0.924</text>\n<text text-anchor=\"middle\" x=\"600\" y=\"-260.8\" font-family=\"Helvetica,sans-Serif\" font-size=\"14.00\" fill=\"#000000\">samples = 62</text>\n<text text-anchor=\"middle\" x=\"600\" y=\"-245.8\" font-family=\"Helvetica,sans-Serif\" font-size=\"14.00\" fill=\"#000000\">value = [41, 21, 0]</text>\n<text text-anchor=\"middle\" x=\"600\" y=\"-230.8\" font-family=\"Helvetica,sans-Serif\" font-size=\"14.00\" fill=\"#000000\">class = Gin</text>\n</g>\n<!-- 0&#45;&gt;8 -->\n<g id=\"edge8\" class=\"edge\">\n<title>0&#45;&gt;8</title>\n<path fill=\"none\" stroke=\"#000000\" d=\"M525.8717,-341.8796C534.5858,-332.7832 543.8888,-323.0722 552.8562,-313.7116\"/>\n<polygon fill=\"#000000\" stroke=\"#000000\" points=\"555.5678,-315.9405 559.9581,-306.2981 550.513,-311.098 555.5678,-315.9405\"/>\n<text text-anchor=\"middle\" x=\"560.4945\" y=\"-327.5923\" font-family=\"Helvetica,sans-Serif\" font-size=\"14.00\" fill=\"#000000\">False</text>\n</g>\n<!-- 2 -->\n<g id=\"node3\" class=\"node\">\n<title>2</title>\n<path fill=\"#9558e9\" stroke=\"#000000\" d=\"M264,-187C264,-187 132,-187 132,-187 126,-187 120,-181 120,-175 120,-175 120,-116 120,-116 120,-110 126,-104 132,-104 132,-104 264,-104 264,-104 270,-104 276,-110 276,-116 276,-116 276,-175 276,-175 276,-181 270,-187 264,-187\"/>\n<text text-anchor=\"middle\" x=\"198\" y=\"-171.8\" font-family=\"Helvetica,sans-Serif\" font-size=\"14.00\" fill=\"#000000\">total_phenols &lt;= 1.88</text>\n<text text-anchor=\"middle\" x=\"198\" y=\"-156.8\" font-family=\"Helvetica,sans-Serif\" font-size=\"14.00\" fill=\"#000000\">entropy = 0.571</text>\n<text text-anchor=\"middle\" x=\"198\" y=\"-141.8\" font-family=\"Helvetica,sans-Serif\" font-size=\"14.00\" fill=\"#000000\">samples = 37</text>\n<text text-anchor=\"middle\" x=\"198\" y=\"-126.8\" font-family=\"Helvetica,sans-Serif\" font-size=\"14.00\" fill=\"#000000\">value = [0, 5, 32]</text>\n<text text-anchor=\"middle\" x=\"198\" y=\"-111.8\" font-family=\"Helvetica,sans-Serif\" font-size=\"14.00\" fill=\"#000000\">class = Vermouth</text>\n</g>\n<!-- 1&#45;&gt;2 -->\n<g id=\"edge2\" class=\"edge\">\n<title>1&#45;&gt;2</title>\n<path fill=\"none\" stroke=\"#000000\" d=\"M311.7935,-222.8796C297.5394,-213.1868 282.259,-202.7961 267.6693,-192.8752\"/>\n<polygon fill=\"#000000\" stroke=\"#000000\" points=\"269.4093,-189.8258 259.1719,-187.0969 265.4731,-195.6143 269.4093,-189.8258\"/>\n</g>\n<!-- 5 -->\n<g id=\"node6\" class=\"node\">\n<title>5</title>\n<path fill=\"#53e891\" stroke=\"#000000\" d=\"M467.5,-187C467.5,-187 306.5,-187 306.5,-187 300.5,-187 294.5,-181 294.5,-175 294.5,-175 294.5,-116 294.5,-116 294.5,-110 300.5,-104 306.5,-104 306.5,-104 467.5,-104 467.5,-104 473.5,-104 479.5,-110 479.5,-116 479.5,-116 479.5,-175 479.5,-175 479.5,-181 473.5,-187 467.5,-187\"/>\n<text text-anchor=\"middle\" x=\"387\" y=\"-171.8\" font-family=\"Helvetica,sans-Serif\" font-size=\"14.00\" fill=\"#000000\">alcalinity_of_ash &lt;= 20.38</text>\n<text text-anchor=\"middle\" x=\"387\" y=\"-156.8\" font-family=\"Helvetica,sans-Serif\" font-size=\"14.00\" fill=\"#000000\">entropy = 0.64</text>\n<text text-anchor=\"middle\" x=\"387\" y=\"-141.8\" font-family=\"Helvetica,sans-Serif\" font-size=\"14.00\" fill=\"#000000\">samples = 25</text>\n<text text-anchor=\"middle\" x=\"387\" y=\"-126.8\" font-family=\"Helvetica,sans-Serif\" font-size=\"14.00\" fill=\"#000000\">value = [1, 22, 2]</text>\n<text text-anchor=\"middle\" x=\"387\" y=\"-111.8\" font-family=\"Helvetica,sans-Serif\" font-size=\"14.00\" fill=\"#000000\">class = Sherry</text>\n</g>\n<!-- 1&#45;&gt;5 -->\n<g id=\"edge5\" class=\"edge\">\n<title>1&#45;&gt;5</title>\n<path fill=\"none\" stroke=\"#000000\" d=\"M377.8965,-222.8796C378.8607,-214.6838 379.8836,-205.9891 380.8822,-197.5013\"/>\n<polygon fill=\"#000000\" stroke=\"#000000\" points=\"384.3901,-197.6386 382.0826,-187.2981 377.4381,-196.8206 384.3901,-197.6386\"/>\n</g>\n<!-- 3 -->\n<g id=\"node4\" class=\"node\">\n<title>3</title>\n<path fill=\"#8641e6\" stroke=\"#000000\" d=\"M116,-68C116,-68 12,-68 12,-68 6,-68 0,-62 0,-56 0,-56 0,-12 0,-12 0,-6 6,0 12,0 12,0 116,0 116,0 122,0 128,-6 128,-12 128,-12 128,-56 128,-56 128,-62 122,-68 116,-68\"/>\n<text text-anchor=\"middle\" x=\"64\" y=\"-52.8\" font-family=\"Helvetica,sans-Serif\" font-size=\"14.00\" fill=\"#000000\">entropy = 0.235</text>\n<text text-anchor=\"middle\" x=\"64\" y=\"-37.8\" font-family=\"Helvetica,sans-Serif\" font-size=\"14.00\" fill=\"#000000\">samples = 26</text>\n<text text-anchor=\"middle\" x=\"64\" y=\"-22.8\" font-family=\"Helvetica,sans-Serif\" font-size=\"14.00\" fill=\"#000000\">value = [0, 1, 25]</text>\n<text text-anchor=\"middle\" x=\"64\" y=\"-7.8\" font-family=\"Helvetica,sans-Serif\" font-size=\"14.00\" fill=\"#000000\">class = Vermouth</text>\n</g>\n<!-- 2&#45;&gt;3 -->\n<g id=\"edge3\" class=\"edge\">\n<title>2&#45;&gt;3</title>\n<path fill=\"none\" stroke=\"#000000\" d=\"M148.1033,-103.9815C136.6162,-94.4232 124.4103,-84.2668 112.9633,-74.7419\"/>\n<polygon fill=\"#000000\" stroke=\"#000000\" points=\"115.1035,-71.9695 105.1779,-68.2637 110.6261,-77.3503 115.1035,-71.9695\"/>\n</g>\n<!-- 4 -->\n<g id=\"node5\" class=\"node\">\n<title>4</title>\n<path fill=\"#c9aaf4\" stroke=\"#000000\" d=\"M262,-68C262,-68 158,-68 158,-68 152,-68 146,-62 146,-56 146,-56 146,-12 146,-12 146,-6 152,0 158,0 158,0 262,0 262,0 268,0 274,-6 274,-12 274,-12 274,-56 274,-56 274,-62 268,-68 262,-68\"/>\n<text text-anchor=\"middle\" x=\"210\" y=\"-52.8\" font-family=\"Helvetica,sans-Serif\" font-size=\"14.00\" fill=\"#000000\">entropy = 0.946</text>\n<text text-anchor=\"middle\" x=\"210\" y=\"-37.8\" font-family=\"Helvetica,sans-Serif\" font-size=\"14.00\" fill=\"#000000\">samples = 11</text>\n<text text-anchor=\"middle\" x=\"210\" y=\"-22.8\" font-family=\"Helvetica,sans-Serif\" font-size=\"14.00\" fill=\"#000000\">value = [0, 4, 7]</text>\n<text text-anchor=\"middle\" x=\"210\" y=\"-7.8\" font-family=\"Helvetica,sans-Serif\" font-size=\"14.00\" fill=\"#000000\">class = Vermouth</text>\n</g>\n<!-- 2&#45;&gt;4 -->\n<g id=\"edge4\" class=\"edge\">\n<title>2&#45;&gt;4</title>\n<path fill=\"none\" stroke=\"#000000\" d=\"M202.4684,-103.9815C203.3685,-95.618 204.3179,-86.7965 205.2279,-78.3409\"/>\n<polygon fill=\"#000000\" stroke=\"#000000\" points=\"208.7222,-78.5808 206.3124,-68.2637 201.7624,-77.8317 208.7222,-78.5808\"/>\n</g>\n<!-- 6 -->\n<g id=\"node7\" class=\"node\">\n<title>6</title>\n<path fill=\"#61ea9a\" stroke=\"#000000\" d=\"M422,-68C422,-68 328,-68 328,-68 322,-68 316,-62 316,-56 316,-56 316,-12 316,-12 316,-6 322,0 328,0 328,0 422,0 422,0 428,0 434,-6 434,-12 434,-12 434,-56 434,-56 434,-62 428,-68 422,-68\"/>\n<text text-anchor=\"middle\" x=\"375\" y=\"-52.8\" font-family=\"Helvetica,sans-Serif\" font-size=\"14.00\" fill=\"#000000\">entropy = 0.866</text>\n<text text-anchor=\"middle\" x=\"375\" y=\"-37.8\" font-family=\"Helvetica,sans-Serif\" font-size=\"14.00\" fill=\"#000000\">samples = 11</text>\n<text text-anchor=\"middle\" x=\"375\" y=\"-22.8\" font-family=\"Helvetica,sans-Serif\" font-size=\"14.00\" fill=\"#000000\">value = [1, 9, 1]</text>\n<text text-anchor=\"middle\" x=\"375\" y=\"-7.8\" font-family=\"Helvetica,sans-Serif\" font-size=\"14.00\" fill=\"#000000\">class = Sherry</text>\n</g>\n<!-- 5&#45;&gt;6 -->\n<g id=\"edge6\" class=\"edge\">\n<title>5&#45;&gt;6</title>\n<path fill=\"none\" stroke=\"#000000\" d=\"M382.5316,-103.9815C381.6315,-95.618 380.6821,-86.7965 379.7721,-78.3409\"/>\n<polygon fill=\"#000000\" stroke=\"#000000\" points=\"383.2376,-77.8317 378.6876,-68.2637 376.2778,-78.5808 383.2376,-77.8317\"/>\n</g>\n<!-- 7 -->\n<g id=\"node8\" class=\"node\">\n<title>7</title>\n<path fill=\"#48e78b\" stroke=\"#000000\" d=\"M563.5,-68C563.5,-68 464.5,-68 464.5,-68 458.5,-68 452.5,-62 452.5,-56 452.5,-56 452.5,-12 452.5,-12 452.5,-6 458.5,0 464.5,0 464.5,0 563.5,0 563.5,0 569.5,0 575.5,-6 575.5,-12 575.5,-12 575.5,-56 575.5,-56 575.5,-62 569.5,-68 563.5,-68\"/>\n<text text-anchor=\"middle\" x=\"514\" y=\"-52.8\" font-family=\"Helvetica,sans-Serif\" font-size=\"14.00\" fill=\"#000000\">entropy = 0.371</text>\n<text text-anchor=\"middle\" x=\"514\" y=\"-37.8\" font-family=\"Helvetica,sans-Serif\" font-size=\"14.00\" fill=\"#000000\">samples = 14</text>\n<text text-anchor=\"middle\" x=\"514\" y=\"-22.8\" font-family=\"Helvetica,sans-Serif\" font-size=\"14.00\" fill=\"#000000\">value = [0, 13, 1]</text>\n<text text-anchor=\"middle\" x=\"514\" y=\"-7.8\" font-family=\"Helvetica,sans-Serif\" font-size=\"14.00\" fill=\"#000000\">class = Sherry</text>\n</g>\n<!-- 5&#45;&gt;7 -->\n<g id=\"edge7\" class=\"edge\">\n<title>5&#45;&gt;7</title>\n<path fill=\"none\" stroke=\"#000000\" d=\"M434.2901,-103.9815C445.0725,-94.5151 456.523,-84.462 467.2813,-75.0168\"/>\n<polygon fill=\"#000000\" stroke=\"#000000\" points=\"469.7676,-77.4915 474.9732,-68.2637 465.1493,-72.2311 469.7676,-77.4915\"/>\n</g>\n<!-- 9 -->\n<g id=\"node10\" class=\"node\">\n<title>9</title>\n<path fill=\"#39e581\" stroke=\"#000000\" d=\"M635.5,-179.5C635.5,-179.5 536.5,-179.5 536.5,-179.5 530.5,-179.5 524.5,-173.5 524.5,-167.5 524.5,-167.5 524.5,-123.5 524.5,-123.5 524.5,-117.5 530.5,-111.5 536.5,-111.5 536.5,-111.5 635.5,-111.5 635.5,-111.5 641.5,-111.5 647.5,-117.5 647.5,-123.5 647.5,-123.5 647.5,-167.5 647.5,-167.5 647.5,-173.5 641.5,-179.5 635.5,-179.5\"/>\n<text text-anchor=\"middle\" x=\"586\" y=\"-164.3\" font-family=\"Helvetica,sans-Serif\" font-size=\"14.00\" fill=\"#000000\">entropy = 0.0</text>\n<text text-anchor=\"middle\" x=\"586\" y=\"-149.3\" font-family=\"Helvetica,sans-Serif\" font-size=\"14.00\" fill=\"#000000\">samples = 16</text>\n<text text-anchor=\"middle\" x=\"586\" y=\"-134.3\" font-family=\"Helvetica,sans-Serif\" font-size=\"14.00\" fill=\"#000000\">value = [0, 16, 0]</text>\n<text text-anchor=\"middle\" x=\"586\" y=\"-119.3\" font-family=\"Helvetica,sans-Serif\" font-size=\"14.00\" fill=\"#000000\">class = Sherry</text>\n</g>\n<!-- 8&#45;&gt;9 -->\n<g id=\"edge9\" class=\"edge\">\n<title>8&#45;&gt;9</title>\n<path fill=\"none\" stroke=\"#000000\" d=\"M595.1035,-222.8796C593.8486,-212.2134 592.4944,-200.7021 591.2237,-189.9015\"/>\n<polygon fill=\"#000000\" stroke=\"#000000\" points=\"594.6816,-189.3375 590.0371,-179.8149 587.7295,-190.1554 594.6816,-189.3375\"/>\n</g>\n<!-- 10 -->\n<g id=\"node11\" class=\"node\">\n<title>10</title>\n<path fill=\"#e89051\" stroke=\"#000000\" d=\"M790.5,-187C790.5,-187 677.5,-187 677.5,-187 671.5,-187 665.5,-181 665.5,-175 665.5,-175 665.5,-116 665.5,-116 665.5,-110 671.5,-104 677.5,-104 677.5,-104 790.5,-104 790.5,-104 796.5,-104 802.5,-110 802.5,-116 802.5,-116 802.5,-175 802.5,-175 802.5,-181 796.5,-187 790.5,-187\"/>\n<text text-anchor=\"middle\" x=\"734\" y=\"-171.8\" font-family=\"Helvetica,sans-Serif\" font-size=\"14.00\" fill=\"#000000\">proline &lt;= 1026.54</text>\n<text text-anchor=\"middle\" x=\"734\" y=\"-156.8\" font-family=\"Helvetica,sans-Serif\" font-size=\"14.00\" fill=\"#000000\">entropy = 0.496</text>\n<text text-anchor=\"middle\" x=\"734\" y=\"-141.8\" font-family=\"Helvetica,sans-Serif\" font-size=\"14.00\" fill=\"#000000\">samples = 46</text>\n<text text-anchor=\"middle\" x=\"734\" y=\"-126.8\" font-family=\"Helvetica,sans-Serif\" font-size=\"14.00\" fill=\"#000000\">value = [41, 5, 0]</text>\n<text text-anchor=\"middle\" x=\"734\" y=\"-111.8\" font-family=\"Helvetica,sans-Serif\" font-size=\"14.00\" fill=\"#000000\">class = Gin</text>\n</g>\n<!-- 8&#45;&gt;10 -->\n<g id=\"edge10\" class=\"edge\">\n<title>8&#45;&gt;10</title>\n<path fill=\"none\" stroke=\"#000000\" d=\"M646.8667,-222.8796C657.3125,-213.6031 668.4781,-203.6874 679.211,-194.1559\"/>\n<polygon fill=\"#000000\" stroke=\"#000000\" points=\"681.7801,-196.5553 686.9333,-187.2981 677.132,-191.3213 681.7801,-196.5553\"/>\n</g>\n<!-- 11 -->\n<g id=\"node12\" class=\"node\">\n<title>11</title>\n<path fill=\"#f0b58b\" stroke=\"#000000\" d=\"M744.5,-68C744.5,-68 645.5,-68 645.5,-68 639.5,-68 633.5,-62 633.5,-56 633.5,-56 633.5,-12 633.5,-12 633.5,-6 639.5,0 645.5,0 645.5,0 744.5,0 744.5,0 750.5,0 756.5,-6 756.5,-12 756.5,-12 756.5,-56 756.5,-56 756.5,-62 750.5,-68 744.5,-68\"/>\n<text text-anchor=\"middle\" x=\"695\" y=\"-52.8\" font-family=\"Helvetica,sans-Serif\" font-size=\"14.00\" fill=\"#000000\">entropy = 0.874</text>\n<text text-anchor=\"middle\" x=\"695\" y=\"-37.8\" font-family=\"Helvetica,sans-Serif\" font-size=\"14.00\" fill=\"#000000\">samples = 17</text>\n<text text-anchor=\"middle\" x=\"695\" y=\"-22.8\" font-family=\"Helvetica,sans-Serif\" font-size=\"14.00\" fill=\"#000000\">value = [12, 5, 0]</text>\n<text text-anchor=\"middle\" x=\"695\" y=\"-7.8\" font-family=\"Helvetica,sans-Serif\" font-size=\"14.00\" fill=\"#000000\">class = Gin</text>\n</g>\n<!-- 10&#45;&gt;11 -->\n<g id=\"edge11\" class=\"edge\">\n<title>10&#45;&gt;11</title>\n<path fill=\"none\" stroke=\"#000000\" d=\"M719.4778,-103.9815C716.4882,-95.4342 713.3312,-86.4086 710.3146,-77.7839\"/>\n<polygon fill=\"#000000\" stroke=\"#000000\" points=\"713.59,-76.5473 706.9846,-68.2637 706.9826,-78.8585 713.59,-76.5473\"/>\n</g>\n<!-- 12 -->\n<g id=\"node13\" class=\"node\">\n<title>12</title>\n<path fill=\"#e58139\" stroke=\"#000000\" d=\"M885.5,-68C885.5,-68 786.5,-68 786.5,-68 780.5,-68 774.5,-62 774.5,-56 774.5,-56 774.5,-12 774.5,-12 774.5,-6 780.5,0 786.5,0 786.5,0 885.5,0 885.5,0 891.5,0 897.5,-6 897.5,-12 897.5,-12 897.5,-56 897.5,-56 897.5,-62 891.5,-68 885.5,-68\"/>\n<text text-anchor=\"middle\" x=\"836\" y=\"-52.8\" font-family=\"Helvetica,sans-Serif\" font-size=\"14.00\" fill=\"#000000\">entropy = 0.0</text>\n<text text-anchor=\"middle\" x=\"836\" y=\"-37.8\" font-family=\"Helvetica,sans-Serif\" font-size=\"14.00\" fill=\"#000000\">samples = 29</text>\n<text text-anchor=\"middle\" x=\"836\" y=\"-22.8\" font-family=\"Helvetica,sans-Serif\" font-size=\"14.00\" fill=\"#000000\">value = [29, 0, 0]</text>\n<text text-anchor=\"middle\" x=\"836\" y=\"-7.8\" font-family=\"Helvetica,sans-Serif\" font-size=\"14.00\" fill=\"#000000\">class = Gin</text>\n</g>\n<!-- 10&#45;&gt;12 -->\n<g id=\"edge12\" class=\"edge\">\n<title>10&#45;&gt;12</title>\n<path fill=\"none\" stroke=\"#000000\" d=\"M771.981,-103.9815C780.3886,-94.7908 789.3021,-85.0472 797.7215,-75.8436\"/>\n<polygon fill=\"#000000\" stroke=\"#000000\" points=\"800.4883,-78.0045 804.6557,-68.2637 795.3234,-73.2797 800.4883,-78.0045\"/>\n</g>\n</g>\n</svg>\n"
          },
          "metadata": {
            "tags": []
          },
          "execution_count": 47
        }
      ]
    },
    {
      "cell_type": "code",
      "metadata": {
        "colab": {
          "base_uri": "https://localhost:8080/"
        },
        "id": "fQSsLooq5RS8",
        "outputId": "81d9b99b-1c0e-4ab8-98ba-b356edf69977"
      },
      "source": [
        "score_train = clf.score(Xtrain,Ytrain)\n",
        "score_train"
      ],
      "execution_count": null,
      "outputs": [
        {
          "output_type": "execute_result",
          "data": {
            "text/plain": [
              "0.8951612903225806"
            ]
          },
          "metadata": {
            "tags": []
          },
          "execution_count": 48
        }
      ]
    },
    {
      "cell_type": "code",
      "metadata": {
        "id": "37HeoWI1504V"
      },
      "source": [
        "#max_features; min_impurity_decrease"
      ],
      "execution_count": null,
      "outputs": []
    },
    {
      "cell_type": "code",
      "metadata": {
        "colab": {
          "base_uri": "https://localhost:8080/",
          "height": 265
        },
        "id": "kF0Wb2H96N98",
        "outputId": "0522f283-5ddf-41be-e5de-7e54f287c028"
      },
      "source": [
        "#Hyperparametric learning curve\n",
        "import matplotlib.pyplot as plt\n",
        "test=[]\n",
        "for i in range(10):\n",
        "  clf = tree.DecisionTreeClassifier(max_depth=i+1\n",
        "                                    ,criterion=\"entropy\"\n",
        "                                    ,random_state=30\n",
        "                                    ,splitter=\"random\")\n",
        "  clf = clf.fit(Xtrain,Ytrain)\n",
        "  score = clf.score(Xtest,Ytest)\n",
        "  test.append(score)\n",
        "plt.plot(range(1,11),test,color='red',label=\"max_depth\")\n",
        "plt.legend()\n",
        "plt.show()"
      ],
      "execution_count": null,
      "outputs": [
        {
          "output_type": "display_data",
          "data": {
            "image/png": "[encoded data removed]",
            "text/plain": [
              "<Figure size 432x288 with 1 Axes>"
            ]
          },
          "metadata": {
            "tags": [],
            "needs_background": "light"
          }
        }
      ]
    },
    {
      "cell_type": "code",
      "metadata": {
        "id": "yXcEL9w-9DNK"
      },
      "source": [
        "# class_weight：Give more weight to the feature with small samples\n",
        "# min_weight_fraction_leaf: based on the class_weight\n",
        "# apply: Returns the index of the leaf node on which each test sample\n",
        "# predict: Returns the classification/regressions results for each test sample"
      ],
      "execution_count": null,
      "outputs": []
    },
    {
      "cell_type": "code",
      "metadata": {
        "colab": {
          "base_uri": "https://localhost:8080/"
        },
        "id": "sz2cIzo6AYyN",
        "outputId": "fdb02534-d3f8-42bd-8e9d-13ab062f4001"
      },
      "source": [
        "clf.apply(Xtest)"
      ],
      "execution_count": null,
      "outputs": [
        {
          "output_type": "execute_result",
          "data": {
            "text/plain": [
              "array([29, 30,  5, 10, 24, 12, 19, 30, 12, 28, 30, 30, 30,  3,  3, 24, 24,\n",
              "       24,  3, 22, 12, 12, 12,  3, 30,  3, 24, 12, 12,  3,  3, 30, 12, 12,\n",
              "        3,  3,  3, 12, 24, 30, 30, 12, 30,  3, 30,  3,  3,  3, 12,  3,  3,\n",
              "       27,  3, 12])"
            ]
          },
          "metadata": {
            "tags": []
          },
          "execution_count": 51
        }
      ]
    },
    {
      "cell_type": "code",
      "metadata": {
        "colab": {
          "base_uri": "https://localhost:8080/"
        },
        "id": "L_Yt0r94AfO1",
        "outputId": "da5f6faf-8435-4e8e-cbbd-18cd3e614b5a"
      },
      "source": [
        "clf.predict(Xtest)"
      ],
      "execution_count": null,
      "outputs": [
        {
          "output_type": "execute_result",
          "data": {
            "text/plain": [
              "array([1, 0, 1, 1, 0, 1, 1, 0, 1, 0, 0, 0, 0, 2, 2, 0, 0, 0, 2, 0, 1, 1,\n",
              "       1, 2, 0, 2, 0, 1, 1, 2, 2, 0, 1, 1, 2, 2, 2, 1, 0, 0, 0, 1, 0, 2,\n",
              "       0, 2, 2, 2, 1, 2, 2, 1, 2, 1])"
            ]
          },
          "metadata": {
            "tags": []
          },
          "execution_count": 52
        }
      ]
    }
  ]
}
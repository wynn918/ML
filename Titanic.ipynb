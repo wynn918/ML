{
  "nbformat": 4,
  "nbformat_minor": 0,
  "metadata": {
    "colab": {
      "name": "Titanic.ipynb",
      "provenance": [],
      "collapsed_sections": [],
      "authorship_tag": "ABX9TyOT4uzyYWTHFNYy5lmwVaby",
      "include_colab_link": true
    },
    "kernelspec": {
      "name": "python3",
      "display_name": "Python 3"
    },
    "language_info": {
      "name": "python"
    }
  },
  "cells": [
    {
      "cell_type": "markdown",
      "metadata": {
        "id": "view-in-github",
        "colab_type": "text"
      },
      "source": [
        "<a href=\"https://colab.research.google.com/github/wynn918/ML/blob/main/Titanic.ipynb\" target=\"_parent\"><img src=\"https://colab.research.google.com/assets/colab-badge.svg\" alt=\"Open In Colab\"/></a>"
      ]
    },
    {
      "cell_type": "code",
      "metadata": {
        "id": "IDgcNMu0PUKB"
      },
      "source": [
        "import pandas as pd\n",
        "from sklearn.tree import DecisionTreeClassifier\n",
        "import matplotlib.pyplot as plt\n",
        "from sklearn.model_selection import train_test_split\n",
        "from sklearn.model_selection import cross_val_score\n",
        "from sklearn.model_selection import GridSearchCV"
      ],
      "execution_count": 24,
      "outputs": []
    },
    {
      "cell_type": "code",
      "metadata": {
        "id": "4YDdQ4PtReNe"
      },
      "source": [
        "data = pd.read_csv('train.csv')"
      ],
      "execution_count": 3,
      "outputs": []
    },
    {
      "cell_type": "code",
      "metadata": {
        "id": "rZ8YEmZ3Rxz4"
      },
      "source": [
        "data.info()"
      ],
      "execution_count": null,
      "outputs": []
    },
    {
      "cell_type": "code",
      "metadata": {
        "id": "bwN6oQlwR8Xz"
      },
      "source": [
        "data.drop(['Cabin','Name','Ticket'],inplace=True,axis=1)"
      ],
      "execution_count": 5,
      "outputs": []
    },
    {
      "cell_type": "code",
      "metadata": {
        "id": "Cl49pKAmsNBF"
      },
      "source": [
        "#process the missing value\n",
        "data['Age']=data['Age'].fillna(data['Age'].mean())\n",
        "data=data.dropna()"
      ],
      "execution_count": 7,
      "outputs": []
    },
    {
      "cell_type": "code",
      "metadata": {
        "colab": {
          "base_uri": "https://localhost:8080/"
        },
        "id": "n5NY85W7Thvg",
        "outputId": "b0bd2fd9-6bbe-4115-adbd-e8e9dc3c0d9d"
      },
      "source": [
        "data.info()"
      ],
      "execution_count": 13,
      "outputs": [
        {
          "output_type": "stream",
          "text": [
            "<class 'pandas.core.frame.DataFrame'>\n",
            "Int64Index: 889 entries, 0 to 890\n",
            "Data columns (total 9 columns):\n",
            " #   Column       Non-Null Count  Dtype  \n",
            "---  ------       --------------  -----  \n",
            " 0   PassengerId  889 non-null    int64  \n",
            " 1   Survived     889 non-null    int64  \n",
            " 2   Pclass       889 non-null    int64  \n",
            " 3   Sex          889 non-null    int64  \n",
            " 4   Age          889 non-null    float64\n",
            " 5   SibSp        889 non-null    int64  \n",
            " 6   Parch        889 non-null    int64  \n",
            " 7   Fare         889 non-null    float64\n",
            " 8   Embarked     889 non-null    int64  \n",
            "dtypes: float64(2), int64(7)\n",
            "memory usage: 69.5 KB\n"
          ],
          "name": "stdout"
        }
      ]
    },
    {
      "cell_type": "code",
      "metadata": {
        "id": "WywlsGE7VV3-"
      },
      "source": [
        "labels = data[\"Embarked\"].unique().tolist()\n",
        "data[\"Embarked\"] = data['Embarked'].apply(lambda x: labels.index(x)) #S-0,C-1,Q-2"
      ],
      "execution_count": 11,
      "outputs": []
    },
    {
      "cell_type": "code",
      "metadata": {
        "id": "8yMPCsa4Vjvs"
      },
      "source": [
        "data.loc[:,'Sex'] = (data['Sex'] == 'male').astype('int')"
      ],
      "execution_count": 12,
      "outputs": []
    },
    {
      "cell_type": "code",
      "metadata": {
        "id": "GdICRu3JXLv4"
      },
      "source": [
        "x = data.iloc[:,data.columns != 'Survived']\n",
        "y = data.iloc[:,data.columns == 'Survived']\n",
        "Xtrain, Xtest, Ytrain, Ytest = train_test_split(x,y,test_size=0.3)"
      ],
      "execution_count": 17,
      "outputs": []
    },
    {
      "cell_type": "code",
      "metadata": {
        "id": "ycQjw_tBYT3z"
      },
      "source": [
        "#rearrange the index order\n",
        "for i in [Xtrain, Xtest, Ytrain, Ytest]:\n",
        "  i.index = range(i.shape[0]) "
      ],
      "execution_count": 19,
      "outputs": []
    },
    {
      "cell_type": "code",
      "metadata": {
        "colab": {
          "base_uri": "https://localhost:8080/"
        },
        "id": "lcXNPlLDZHvS",
        "outputId": "5f34b244-fdee-435b-92e9-0d5b36f4bbab"
      },
      "source": [
        "clf = DecisionTreeClassifier(random_state=10)\n",
        "clf = clf.fit(Xtrain,Ytrain)\n",
        "score = clf.score(Xtest,Ytest)\n",
        "score"
      ],
      "execution_count": 21,
      "outputs": [
        {
          "output_type": "execute_result",
          "data": {
            "text/plain": [
              "0.7265917602996255"
            ]
          },
          "metadata": {
            "tags": []
          },
          "execution_count": 21
        }
      ]
    },
    {
      "cell_type": "code",
      "metadata": {
        "colab": {
          "base_uri": "https://localhost:8080/"
        },
        "id": "QEONc8PfZm6I",
        "outputId": "2ebaa029-bb49-495e-ff62-9083a296cc18"
      },
      "source": [
        "score = cross_val_score(clf,x,y,cv=10).mean()\n",
        "score"
      ],
      "execution_count": 26,
      "outputs": [
        {
          "output_type": "execute_result",
          "data": {
            "text/plain": [
              "0.7514683350357507"
            ]
          },
          "metadata": {
            "tags": []
          },
          "execution_count": 26
        }
      ]
    },
    {
      "cell_type": "code",
      "metadata": {
        "colab": {
          "base_uri": "https://localhost:8080/",
          "height": 282
        },
        "id": "7ai7xOeNZzHP",
        "outputId": "367568ed-5433-4cc0-aaee-cb3a93cc5b2b"
      },
      "source": [
        "tr=[]\n",
        "te=[]\n",
        "\n",
        "for i in range(10):\n",
        "  clf = DecisionTreeClassifier(random_state=10\n",
        "                               ,max_depth=i+1\n",
        "                               )\n",
        "  clf = clf.fit(Xtrain, Ytrain)\n",
        "  score_tr = clf.score(Xtrain, Ytrain)\n",
        "  score_te = cross_val_score(clf,x,y,cv=10).mean()\n",
        "  tr.append(score_tr)\n",
        "  te.append(score_te)\n",
        "\n",
        "print(max(te))\n",
        "\n",
        "plt.plot(range(1,11),tr,color='red',label='Train')\n",
        "plt.plot(range(1,11),te,color='blue',label='Test')\n",
        "plt.xticks(range(1,11))\n",
        "plt.legend()\n",
        "plt.show()"
      ],
      "execution_count": 30,
      "outputs": [
        {
          "output_type": "stream",
          "text": [
            "0.8143896833503576\n"
          ],
          "name": "stdout"
        },
        {
          "output_type": "display_data",
          "data": {
            "image/png": "[encoded data removed]",
            "text/plain": [
              "<Figure size 432x288 with 1 Axes>"
            ]
          },
          "metadata": {
            "tags": [],
            "needs_background": "light"
          }
        }
      ]
    },
    {
      "cell_type": "code",
      "metadata": {
        "colab": {
          "base_uri": "https://localhost:8080/",
          "height": 282
        },
        "id": "0Azv7F1FcW76",
        "outputId": "a2f12257-25e7-427d-c18f-a07140834d3c"
      },
      "source": [
        "tr=[]\n",
        "te=[]\n",
        "\n",
        "for i in range(10):\n",
        "  clf = DecisionTreeClassifier(random_state=10\n",
        "                               ,max_depth=i+1\n",
        "                               ,criterion='entropy'\n",
        "                               )\n",
        "  clf = clf.fit(Xtrain, Ytrain)\n",
        "  score_tr = clf.score(Xtrain, Ytrain)\n",
        "  score_te = cross_val_score(clf,x,y,cv=10).mean()\n",
        "  tr.append(score_tr)\n",
        "  te.append(score_te)\n",
        "\n",
        "print(max(te))\n",
        "\n",
        "plt.plot(range(1,11),tr,color='red',label='Train')\n",
        "plt.plot(range(1,11),te,color='blue',label='Test')\n",
        "plt.xticks(range(1,11))\n",
        "plt.legend()\n",
        "plt.show()"
      ],
      "execution_count": 31,
      "outputs": [
        {
          "output_type": "stream",
          "text": [
            "0.8166624106230849\n"
          ],
          "name": "stdout"
        },
        {
          "output_type": "display_data",
          "data": {
            "image/png": "[encoded data removed]",
            "text/plain": [
              "<Figure size 432x288 with 1 Axes>"
            ]
          },
          "metadata": {
            "tags": [],
            "needs_background": "light"
          }
        }
      ]
    },
    {
      "cell_type": "code",
      "metadata": {
        "id": "5fDHjRGBdcfh"
      },
      "source": [
        "#Grid Search\n",
        "import numpy as np\n",
        "gini_threholds=np.linspace(0,0.5,50) #generate 50 numbers from 0-0.5 with order \n",
        "\n",
        "parameters = {'criterion':('gini','entropy')\n",
        "              ,'splitter':('best','random')\n",
        "              ,'max_depth':[*range(1,5)]\n",
        "              ,'min_samples_leaf':[*range(1,50,5)]\n",
        "              ,'min_impurity_decrease':[*np.linspace(0,0.5,50)] \n",
        "}\n",
        "\n",
        "\n",
        "clf = DecisionTreeClassifier(random_state=10)\n",
        "GS = GridSearchCV(clf,parameters,cv=10)\n",
        "GS = GS.fit(Xtrain,Ytrain)"
      ],
      "execution_count": 39,
      "outputs": []
    },
    {
      "cell_type": "code",
      "metadata": {
        "colab": {
          "base_uri": "https://localhost:8080/"
        },
        "id": "61Qe5-SniwDP",
        "outputId": "ab8ae9f9-617c-47d7-906a-bc583888e8bd"
      },
      "source": [
        "GS.best_params_ #the best parameter combination"
      ],
      "execution_count": 40,
      "outputs": [
        {
          "output_type": "execute_result",
          "data": {
            "text/plain": [
              "{'criterion': 'gini',\n",
              " 'max_depth': 4,\n",
              " 'min_impurity_decrease': 0.0,\n",
              " 'min_samples_leaf': 1,\n",
              " 'splitter': 'best'}"
            ]
          },
          "metadata": {
            "tags": []
          },
          "execution_count": 40
        }
      ]
    },
    {
      "cell_type": "code",
      "metadata": {
        "colab": {
          "base_uri": "https://localhost:8080/"
        },
        "id": "pMeVPk0YjDHV",
        "outputId": "9d5aa09f-5d07-49dd-c645-056f432c3285"
      },
      "source": [
        "GS.best_score_ "
      ],
      "execution_count": 41,
      "outputs": [
        {
          "output_type": "execute_result",
          "data": {
            "text/plain": [
              "0.830926779313876"
            ]
          },
          "metadata": {
            "tags": []
          },
          "execution_count": 41
        }
      ]
    }
  ]
}
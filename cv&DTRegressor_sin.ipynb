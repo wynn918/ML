{
  "nbformat": 4,
  "nbformat_minor": 0,
  "metadata": {
    "colab": {
      "name": "cv&DTRegressor_sin.ipynb",
      "provenance": [],
      "authorship_tag": "ABX9TyP5vhrNUDLB2ttFgC7Gxrfy",
      "include_colab_link": true
    },
    "kernelspec": {
      "name": "python3",
      "display_name": "Python 3"
    },
    "language_info": {
      "name": "python"
    }
  },
  "cells": [
    {
      "cell_type": "markdown",
      "metadata": {
        "id": "view-in-github",
        "colab_type": "text"
      },
      "source": [
        "<a href=\"https://colab.research.google.com/github/wynn918/ML/blob/main/cv%26DTRegressor_sin.ipynb\" target=\"_parent\"><img src=\"https://colab.research.google.com/assets/colab-badge.svg\" alt=\"Open In Colab\"/></a>"
      ]
    },
    {
      "cell_type": "code",
      "metadata": {
        "id": "I3gFwkOW91An"
      },
      "source": [
        "from sklearn.datasets import load_boston\n",
        "from sklearn.model_selection import cross_val_score\n",
        "from sklearn.tree import DecisionTreeRegressor"
      ],
      "execution_count": 12,
      "outputs": []
    },
    {
      "cell_type": "code",
      "metadata": {
        "id": "y3JlHYk8G_88"
      },
      "source": [
        "boston = load_boston()\n",
        "#boston.data\n",
        "#boston.target"
      ],
      "execution_count": 14,
      "outputs": []
    },
    {
      "cell_type": "code",
      "metadata": {
        "colab": {
          "base_uri": "https://localhost:8080/"
        },
        "id": "pHzcL1zKHRSq",
        "outputId": "c9488978-e1f7-423b-9cc6-f82eb1b4fd5b"
      },
      "source": [
        "regressor = DecisionTreeRegressor(random_state=0)\n",
        "cross_val_score(regressor, boston.data, boston.target, cv=10,\n",
        "                scoring = \"neg_mean_squared_error\")"
      ],
      "execution_count": 15,
      "outputs": [
        {
          "output_type": "execute_result",
          "data": {
            "text/plain": [
              "array([-16.41568627, -10.61843137, -18.30176471, -55.36803922,\n",
              "       -16.01470588, -44.70117647, -12.2148    , -91.3888    ,\n",
              "       -57.764     , -36.8134    ])"
            ]
          },
          "metadata": {
            "tags": []
          },
          "execution_count": 15
        }
      ]
    },
    {
      "cell_type": "code",
      "metadata": {
        "id": "jPy4XRMpEe3G"
      },
      "source": [
        "import numpy as np\n",
        "import matplotlib.pyplot as plt"
      ],
      "execution_count": 7,
      "outputs": []
    },
    {
      "cell_type": "code",
      "metadata": {
        "id": "rWp9ovEiEwPL"
      },
      "source": [
        "rng = np.random.RandomState(1)\n",
        "X = np.sort(5*rng.rand(80,1),axis=0)#rng.rand(80,1) is 2 dimensional for tree\n",
        "y = np.sin(X).ravel()# y should be 1 dimensional, ravel to reduct dimension"
      ],
      "execution_count": 4,
      "outputs": []
    },
    {
      "cell_type": "code",
      "metadata": {
        "colab": {
          "base_uri": "https://localhost:8080/",
          "height": 282
        },
        "id": "UGcpq9fKHjl-",
        "outputId": "5d3622e9-df09-4978-ebbe-a68ccfe15624"
      },
      "source": [
        "plt.figure()\n",
        "plt.scatter(X,y,s=20, edgecolor='black',c='darkorange',label='data')"
      ],
      "execution_count": 8,
      "outputs": [
        {
          "output_type": "execute_result",
          "data": {
            "text/plain": [
              "<matplotlib.collections.PathCollection at 0x7fc8e954db10>"
            ]
          },
          "metadata": {
            "tags": []
          },
          "execution_count": 8
        },
        {
          "output_type": "display_data",
          "data": {
            "image/png": "[encoded data removed]",
            "text/plain": [
              "<Figure size 432x288 with 1 Axes>"
            ]
          },
          "metadata": {
            "tags": [],
            "needs_background": "light"
          }
        }
      ]
    },
    {
      "cell_type": "code",
      "metadata": {
        "colab": {
          "base_uri": "https://localhost:8080/",
          "height": 283
        },
        "id": "t4PsCJEkH-zs",
        "outputId": "fe0bf3e2-77ed-4488-f63f-c739a830e9d0"
      },
      "source": [
        "y[::5] += 3*(0.5-rng.rand(16)) #Add noise\n",
        "plt.figure()\n",
        "plt.scatter(X,y,s=20, edgecolor='black',c='darkorange',label='data')"
      ],
      "execution_count": 10,
      "outputs": [
        {
          "output_type": "execute_result",
          "data": {
            "text/plain": [
              "<matplotlib.collections.PathCollection at 0x7fc8e94cddd0>"
            ]
          },
          "metadata": {
            "tags": []
          },
          "execution_count": 10
        },
        {
          "output_type": "display_data",
          "data": {
            "image/png": "[encoded data removed]",
            "text/plain": [
              "<Figure size 432x288 with 1 Axes>"
            ]
          },
          "metadata": {
            "tags": [],
            "needs_background": "light"
          }
        }
      ]
    },
    {
      "cell_type": "code",
      "metadata": {
        "colab": {
          "base_uri": "https://localhost:8080/"
        },
        "id": "8y3CFwExJ-eH",
        "outputId": "5db66302-ba45-4b46-ef3c-a7b92aa14f00"
      },
      "source": [
        "regr_1=DecisionTreeRegressor(max_depth=2)\n",
        "regr_2=DecisionTreeRegressor(max_depth=5)\n",
        "regr_1.fit(X,y)\n",
        "regr_2.fit(X,y)"
      ],
      "execution_count": 16,
      "outputs": [
        {
          "output_type": "execute_result",
          "data": {
            "text/plain": [
              "DecisionTreeRegressor(ccp_alpha=0.0, criterion='mse', max_depth=5,\n",
              "                      max_features=None, max_leaf_nodes=None,\n",
              "                      min_impurity_decrease=0.0, min_impurity_split=None,\n",
              "                      min_samples_leaf=1, min_samples_split=2,\n",
              "                      min_weight_fraction_leaf=0.0, presort='deprecated',\n",
              "                      random_state=None, splitter='best')"
            ]
          },
          "metadata": {
            "tags": []
          },
          "execution_count": 16
        }
      ]
    },
    {
      "cell_type": "code",
      "metadata": {
        "id": "xI9ndcVrKx_a"
      },
      "source": [
        "#import test data\n",
        "X_test=np.arange(0.0,5.0,0.01)[:,np.newaxis]\n",
        "y_1=regr_1.predict(X_test)\n",
        "y_2=regr_2.predict(X_test)"
      ],
      "execution_count": 17,
      "outputs": []
    },
    {
      "cell_type": "code",
      "metadata": {
        "colab": {
          "base_uri": "https://localhost:8080/",
          "height": 295
        },
        "id": "ndg3D5K4NdIK",
        "outputId": "89716682-f286-4bcc-d6cf-e0e1f5c7e5f3"
      },
      "source": [
        "plt.figure()\n",
        "plt.scatter(X,y,s=20, edgecolor='black',c='darkorange',label='data')\n",
        "plt.plot(X_test, y_1, color='cornflowerblue', label='max_depth=2',linewidth=2)\n",
        "plt.plot(X_test, y_2, color='yellowgreen', label='max_depth=5',linewidth=2)\n",
        "plt.xlabel('data')\n",
        "plt.ylabel('target')\n",
        "plt.title('Decision Tree Regression')\n",
        "plt.legend()\n",
        "plt.show()"
      ],
      "execution_count": 18,
      "outputs": [
        {
          "output_type": "display_data",
          "data": {
            "image/png": "[encoded data removed]",
            "text/plain": [
              "<Figure size 432x288 with 1 Axes>"
            ]
          },
          "metadata": {
            "tags": [],
            "needs_background": "light"
          }
        }
      ]
    }
  ]
}
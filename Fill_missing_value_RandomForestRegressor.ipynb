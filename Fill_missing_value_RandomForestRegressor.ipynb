{
  "nbformat": 4,
  "nbformat_minor": 0,
  "metadata": {
    "colab": {
      "name": "Fill missing value_RandomForestRegressor.ipynb",
      "provenance": [],
      "authorship_tag": "ABX9TyMlqKe3rvaCn9GZpyY97hS1",
      "include_colab_link": true
    },
    "kernelspec": {
      "name": "python3",
      "display_name": "Python 3"
    },
    "language_info": {
      "name": "python"
    }
  },
  "cells": [
    {
      "cell_type": "markdown",
      "metadata": {
        "id": "view-in-github",
        "colab_type": "text"
      },
      "source": [
        "<a href=\"https://colab.research.google.com/github/wynn918/ML/blob/main/Fill_missing_value_RandomForestRegressor.ipynb\" target=\"_parent\"><img src=\"https://colab.research.google.com/assets/colab-badge.svg\" alt=\"Open In Colab\"/></a>"
      ]
    },
    {
      "cell_type": "code",
      "metadata": {
        "id": "JFWy6kIYwhN_"
      },
      "source": [
        "from sklearn.datasets import load_boston\n",
        "from sklearn.model_selection import cross_val_score\n",
        "from sklearn.ensemble import RandomForestRegressor"
      ],
      "execution_count": 3,
      "outputs": []
    },
    {
      "cell_type": "code",
      "metadata": {
        "colab": {
          "base_uri": "https://localhost:8080/"
        },
        "id": "2aaeeWmva_of",
        "outputId": "dca3bab4-0ad1-48cf-d355-dc0c91b1c0d8"
      },
      "source": [
        "boston = load_boston()\n",
        "regressor = RandomForestRegressor(n_estimators=100,random_state=0)\n",
        "cross_val_score(regressor, boston.data, boston.target, cv=10\n",
        "               ,scoring = \"neg_mean_squared_error\")"
      ],
      "execution_count": 4,
      "outputs": [
        {
          "output_type": "execute_result",
          "data": {
            "text/plain": [
              "array([-10.72900447,  -5.36049859,  -4.74614178, -20.84946337,\n",
              "       -12.23497347, -17.99274635,  -6.8952756 , -93.78884428,\n",
              "       -29.80411702, -15.25776814])"
            ]
          },
          "metadata": {
            "tags": []
          },
          "execution_count": 4
        }
      ]
    },
    {
      "cell_type": "code",
      "metadata": {
        "id": "7Wz5eEGjbNUy"
      },
      "source": [
        "#the modle evaulation score list from sklearn \n",
        "import sklearn\n",
        "sorted(sklearn.metrics.SCORERS.keys())"
      ],
      "execution_count": null,
      "outputs": []
    },
    {
      "cell_type": "code",
      "metadata": {
        "id": "5IwvvKOjcG2r"
      },
      "source": [
        "# Using random forest regressor fill the missing value\n",
        "import numpy as np\n",
        "import pandas as pd\n",
        "import matplotlib.pyplot as plt\n",
        "from sklearn.impute import SimpleImputer"
      ],
      "execution_count": 15,
      "outputs": []
    },
    {
      "cell_type": "code",
      "metadata": {
        "colab": {
          "base_uri": "https://localhost:8080/"
        },
        "id": "MKLnVSd0dQCx",
        "outputId": "260588f9-e4cd-4870-adeb-89f1792f36b8"
      },
      "source": [
        "dataset=load_boston()\n",
        "dataset.data.shape"
      ],
      "execution_count": 8,
      "outputs": [
        {
          "output_type": "execute_result",
          "data": {
            "text/plain": [
              "(506, 13)"
            ]
          },
          "metadata": {
            "tags": []
          },
          "execution_count": 8
        }
      ]
    },
    {
      "cell_type": "code",
      "metadata": {
        "id": "MMz-V3j-d0y0"
      },
      "source": [
        "dataset.data"
      ],
      "execution_count": null,
      "outputs": []
    },
    {
      "cell_type": "code",
      "metadata": {
        "id": "aYLqVAZZdf4F"
      },
      "source": [
        "x_full,y_full=dataset.data, dataset.target\n",
        "n_samples=x_full.shape[0]\n",
        "n_features=x_full.shape[1]"
      ],
      "execution_count": 9,
      "outputs": []
    },
    {
      "cell_type": "code",
      "metadata": {
        "colab": {
          "base_uri": "https://localhost:8080/"
        },
        "id": "6-kYrQi0eW9_",
        "outputId": "9f255d42-201d-47f8-8a7e-7bdc47f373ab"
      },
      "source": [
        "# Assume the missing vlaue account for 50%，then total 3289 missing data\n",
        "rng=np.random.RandomState(0)\n",
        "missing_rate=0.5\n",
        "n_missing_samples=int(np.floor(n_samples * n_features * missing_rate)) #np.floor: take a small integer\n",
        "n_missing_samples"
      ],
      "execution_count": 10,
      "outputs": [
        {
          "output_type": "execute_result",
          "data": {
            "text/plain": [
              "3289"
            ]
          },
          "metadata": {
            "tags": []
          },
          "execution_count": 10
        }
      ]
    },
    {
      "cell_type": "code",
      "metadata": {
        "colab": {
          "base_uri": "https://localhost:8080/",
          "height": 142
        },
        "id": "zbr8bZ7ugTDZ",
        "outputId": "bc567a1f-d30b-4572-a3f5-19e6e64f9489"
      },
      "source": [
        "#Creat an array with 3289 data distribute in column index 0~13 and row index 0~506\n",
        "missing_features=rng.randint(0,n_features,n_missing_samples)\n",
        "missing_samples=rng.randint(0,n_samples,n_missing_samples)\n",
        "x_missing=x_full.copy()\n",
        "y_missing=y_full.copy()# Y cann't be missing, it's the target\n",
        "x_missing[missing_samples,missing_features]=np.nan\n",
        "x_missing=pd.DataFrame(x_missing)\n",
        "x_missing.head(3)"
      ],
      "execution_count": 11,
      "outputs": [
        {
          "output_type": "execute_result",
          "data": {
            "text/html": [
              "<div>\n",
              "<style scoped>\n",
              "    .dataframe tbody tr th:only-of-type {\n",
              "        vertical-align: middle;\n",
              "    }\n",
              "\n",
              "    .dataframe tbody tr th {\n",
              "        vertical-align: top;\n",
              "    }\n",
              "\n",
              "    .dataframe thead th {\n",
              "        text-align: right;\n",
              "    }\n",
              "</style>\n",
              "<table border=\"1\" class=\"dataframe\">\n",
              "  <thead>\n",
              "    <tr style=\"text-align: right;\">\n",
              "      <th></th>\n",
              "      <th>0</th>\n",
              "      <th>1</th>\n",
              "      <th>2</th>\n",
              "      <th>3</th>\n",
              "      <th>4</th>\n",
              "      <th>5</th>\n",
              "      <th>6</th>\n",
              "      <th>7</th>\n",
              "      <th>8</th>\n",
              "      <th>9</th>\n",
              "      <th>10</th>\n",
              "      <th>11</th>\n",
              "      <th>12</th>\n",
              "    </tr>\n",
              "  </thead>\n",
              "  <tbody>\n",
              "    <tr>\n",
              "      <th>0</th>\n",
              "      <td>NaN</td>\n",
              "      <td>18.0</td>\n",
              "      <td>NaN</td>\n",
              "      <td>NaN</td>\n",
              "      <td>0.538</td>\n",
              "      <td>NaN</td>\n",
              "      <td>65.2</td>\n",
              "      <td>4.0900</td>\n",
              "      <td>1.0</td>\n",
              "      <td>296.0</td>\n",
              "      <td>NaN</td>\n",
              "      <td>NaN</td>\n",
              "      <td>4.98</td>\n",
              "    </tr>\n",
              "    <tr>\n",
              "      <th>1</th>\n",
              "      <td>0.02731</td>\n",
              "      <td>0.0</td>\n",
              "      <td>NaN</td>\n",
              "      <td>0.0</td>\n",
              "      <td>0.469</td>\n",
              "      <td>NaN</td>\n",
              "      <td>78.9</td>\n",
              "      <td>4.9671</td>\n",
              "      <td>2.0</td>\n",
              "      <td>NaN</td>\n",
              "      <td>NaN</td>\n",
              "      <td>396.9</td>\n",
              "      <td>9.14</td>\n",
              "    </tr>\n",
              "    <tr>\n",
              "      <th>2</th>\n",
              "      <td>0.02729</td>\n",
              "      <td>NaN</td>\n",
              "      <td>7.07</td>\n",
              "      <td>0.0</td>\n",
              "      <td>NaN</td>\n",
              "      <td>7.185</td>\n",
              "      <td>61.1</td>\n",
              "      <td>NaN</td>\n",
              "      <td>2.0</td>\n",
              "      <td>242.0</td>\n",
              "      <td>NaN</td>\n",
              "      <td>NaN</td>\n",
              "      <td>NaN</td>\n",
              "    </tr>\n",
              "  </tbody>\n",
              "</table>\n",
              "</div>"
            ],
            "text/plain": [
              "        0     1     2    3      4      5   ...      7    8      9   10     11    12\n",
              "0      NaN  18.0   NaN  NaN  0.538    NaN  ...  4.0900  1.0  296.0 NaN    NaN  4.98\n",
              "1  0.02731   0.0   NaN  0.0  0.469    NaN  ...  4.9671  2.0    NaN NaN  396.9  9.14\n",
              "2  0.02729   NaN  7.07  0.0    NaN  7.185  ...     NaN  2.0  242.0 NaN    NaN   NaN\n",
              "\n",
              "[3 rows x 13 columns]"
            ]
          },
          "metadata": {
            "tags": []
          },
          "execution_count": 11
        }
      ]
    },
    {
      "cell_type": "code",
      "metadata": {
        "colab": {
          "base_uri": "https://localhost:8080/"
        },
        "id": "XH0Tt2x9R934",
        "outputId": "273afd0d-5120-4df7-aec3-9eb7340a1cb2"
      },
      "source": [
        "print(len(missing_features))\n",
        "print(len(missing_samples))"
      ],
      "execution_count": 21,
      "outputs": [
        {
          "output_type": "stream",
          "text": [
            "3289\n",
            "3289\n"
          ],
          "name": "stdout"
        }
      ]
    },
    {
      "cell_type": "code",
      "metadata": {
        "colab": {
          "base_uri": "https://localhost:8080/"
        },
        "id": "82kTNZbSjoHJ",
        "outputId": "df729e71-58ff-46b0-e803-f1120d4b0c8f"
      },
      "source": [
        "# Using 0 and mean fill the missing value\n",
        "imp_0=SimpleImputer(missing_values=np.nan,strategy='constant',fill_value=0)\n",
        "x_missing_0=imp_0.fit_transform(x_missing)\n",
        "\n",
        "from sklearn.impute import SimpleImputer\n",
        "imp_mean=SimpleImputer(missing_values=np.nan, strategy='mean')\n",
        "x_missing_mean=imp_mean.fit_transform(x_missing)\n",
        "\n",
        "pd.DataFrame(x_missing_0).isnull().sum()"
      ],
      "execution_count": 12,
      "outputs": [
        {
          "output_type": "execute_result",
          "data": {
            "text/plain": [
              "0     0\n",
              "1     0\n",
              "2     0\n",
              "3     0\n",
              "4     0\n",
              "5     0\n",
              "6     0\n",
              "7     0\n",
              "8     0\n",
              "9     0\n",
              "10    0\n",
              "11    0\n",
              "12    0\n",
              "dtype: int64"
            ]
          },
          "metadata": {
            "tags": []
          },
          "execution_count": 12
        }
      ]
    },
    {
      "cell_type": "code",
      "metadata": {
        "id": "VbNuzq4dlwhX"
      },
      "source": [
        "# Using random forest regressor fill the missing value\n",
        "x_missing_reg=x_missing.copy()\n",
        "\n",
        "# Find the order of missing value number from small to big\n",
        "sortindex=np.argsort(x_missing_reg.isnull().sum(axis=0)).values"
      ],
      "execution_count": 13,
      "outputs": []
    },
    {
      "cell_type": "code",
      "metadata": {
        "id": "WUFF9kmBoyDF"
      },
      "source": [
        "for i in sortindex:\n",
        "\n",
        "  df = x_missing_reg\n",
        "  fillc = df.iloc[:,i]\n",
        "  df = pd.concat([df.iloc[:,df.columns != i],pd.DataFrame(y_full)],axis=1)\n",
        "\n",
        "  df_0 =SimpleImputer(missing_values=np.nan,\n",
        "                        strategy='constant',fill_value=0).fit_transform(df)\n",
        "              \n",
        "  Ytrain = fillc[fillc.notnull()] \n",
        "  Ytest = fillc[fillc.isnull()] #need to know the index of missing value\n",
        "  Xtrain = df_0[Ytrain.index,:] \n",
        "  Xtest = df_0[Ytest.index,:]\n",
        "\n",
        "  rfc = RandomForestRegressor(n_estimators=100)\n",
        "  rfc = rfc.fit(Xtrain, Ytrain)\n",
        "  Ypredict = rfc.predict(Xtest)\n",
        "\n",
        "  x_missing_reg.loc[x_missing_reg.iloc[:,i].isnull(),i] = Ypredict"
      ],
      "execution_count": 25,
      "outputs": []
    },
    {
      "cell_type": "code",
      "metadata": {
        "id": "USfOgQG3ogUi"
      },
      "source": [
        "X=[x_full, x_missing_mean,x_missing_0,x_missing_reg]\n",
        "\n",
        "mse=[]\n",
        "\n",
        "for x in X:\n",
        "  estimator=RandomForestRegressor(random_state=0, n_estimators=100)\n",
        "  scores=cross_val_score(estimator,x,y_full,scoring='neg_mean_squared_error',cv=5).mean()\n",
        "  mse.append(scores*-1)\n"
      ],
      "execution_count": 28,
      "outputs": []
    },
    {
      "cell_type": "code",
      "metadata": {
        "colab": {
          "base_uri": "https://localhost:8080/"
        },
        "id": "twkwmhhZoGgL",
        "outputId": "7dec1bc6-5b90-428f-d6bf-1665bf702a67"
      },
      "source": [
        "[*zip(['x_full','x_missing_mean','x_missing_0','x_missing_reg'],mse)]"
      ],
      "execution_count": 29,
      "outputs": [
        {
          "output_type": "execute_result",
          "data": {
            "text/plain": [
              "[('x_full', 21.62860460743544),\n",
              " ('x_missing_mean', 40.84405476955929),\n",
              " ('x_missing_0', 49.50657028893417),\n",
              " ('x_missing_reg', 19.420835493205196)]"
            ]
          },
          "metadata": {
            "tags": []
          },
          "execution_count": 29
        }
      ]
    },
    {
      "cell_type": "code",
      "metadata": {
        "colab": {
          "base_uri": "https://localhost:8080/",
          "height": 404
        },
        "id": "xgBIOsnOoht0",
        "outputId": "8d9c00da-c710-425d-b0bb-465318b4bb7e"
      },
      "source": [
        "x_labels=['Full data',\n",
        "          '0 Imputation',\n",
        "          'Mean Imputation',\n",
        "          'Regressor Imputation']\n",
        "colors=['r','y','b','lime']\n",
        "\n",
        "plt.figure(figsize=(12,6))\n",
        "ax=plt.subplot(111)#add the sub plot\n",
        "\n",
        "for i in np.arange(len(mse)):\n",
        "  ax.barh(i,mse[i],color=colors[i],alpha=0.6,align='center')# add the bar chat in horizontal direction, alpha: the bar thickness\n",
        "\n",
        "ax.set_title('Imputation with Boston Data')\n",
        "ax.set_xlim(left=np.min(mse)*0.9,\n",
        "            right=np.max(mse)*1.1) #xlim：Interval of the X-axis\n",
        "ax.set_yticks(np.arange(len(mse)))\n",
        "ax.set_xlabel('MSE')\n",
        "ax.invert_yaxis() #Inverted y axis\n",
        "ax.set_yticklabels(x_labels)\n",
        "plt.show()"
      ],
      "execution_count": 31,
      "outputs": [
        {
          "output_type": "display_data",
          "data": {
            "image/png": "[encoded data removed]",
            "text/plain": [
              "<Figure size 864x432 with 1 Axes>"
            ]
          },
          "metadata": {
            "tags": [],
            "needs_background": "light"
          }
        }
      ]
    }
  ]
}
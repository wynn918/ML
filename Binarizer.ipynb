{
  "nbformat": 4,
  "nbformat_minor": 0,
  "metadata": {
    "colab": {
      "name": "Binarizer.ipynb",
      "provenance": [],
      "authorship_tag": "ABX9TyNahmMHxAq96CfaS2H0kqxv",
      "include_colab_link": true
    },
    "kernelspec": {
      "name": "python3",
      "display_name": "Python 3"
    },
    "language_info": {
      "name": "python"
    }
  },
  "cells": [
    {
      "cell_type": "markdown",
      "metadata": {
        "id": "view-in-github",
        "colab_type": "text"
      },
      "source": [
        "<a href=\"https://colab.research.google.com/github/wynn918/ML/blob/main/Binarizer.ipynb\" target=\"_parent\"><img src=\"https://colab.research.google.com/assets/colab-badge.svg\" alt=\"Open In Colab\"/></a>"
      ]
    },
    {
      "cell_type": "code",
      "metadata": {
        "colab": {
          "base_uri": "https://localhost:8080/",
          "height": 204
        },
        "id": "bzEgsQOrHJm3",
        "outputId": "1755e964-5d6d-4c8b-8860-23f538d06fdf"
      },
      "source": [
        "import pandas as pd\n",
        "data = pd.read_csv('Narrativedata.csv',index_col=0)\n",
        "data.loc[:,'Age'] = data.loc[:,'Age'].fillna(data.loc[:,'Age'].median())\n",
        "data.head()"
      ],
      "execution_count": 5,
      "outputs": [
        {
          "output_type": "execute_result",
          "data": {
            "text/html": [
              "<div>\n",
              "<style scoped>\n",
              "    .dataframe tbody tr th:only-of-type {\n",
              "        vertical-align: middle;\n",
              "    }\n",
              "\n",
              "    .dataframe tbody tr th {\n",
              "        vertical-align: top;\n",
              "    }\n",
              "\n",
              "    .dataframe thead th {\n",
              "        text-align: right;\n",
              "    }\n",
              "</style>\n",
              "<table border=\"1\" class=\"dataframe\">\n",
              "  <thead>\n",
              "    <tr style=\"text-align: right;\">\n",
              "      <th></th>\n",
              "      <th>Age</th>\n",
              "      <th>Sex</th>\n",
              "      <th>Embarked</th>\n",
              "      <th>Survived</th>\n",
              "    </tr>\n",
              "  </thead>\n",
              "  <tbody>\n",
              "    <tr>\n",
              "      <th>0</th>\n",
              "      <td>22.0</td>\n",
              "      <td>male</td>\n",
              "      <td>S</td>\n",
              "      <td>No</td>\n",
              "    </tr>\n",
              "    <tr>\n",
              "      <th>1</th>\n",
              "      <td>38.0</td>\n",
              "      <td>female</td>\n",
              "      <td>C</td>\n",
              "      <td>Yes</td>\n",
              "    </tr>\n",
              "    <tr>\n",
              "      <th>2</th>\n",
              "      <td>26.0</td>\n",
              "      <td>female</td>\n",
              "      <td>S</td>\n",
              "      <td>Yes</td>\n",
              "    </tr>\n",
              "    <tr>\n",
              "      <th>3</th>\n",
              "      <td>35.0</td>\n",
              "      <td>female</td>\n",
              "      <td>S</td>\n",
              "      <td>Yes</td>\n",
              "    </tr>\n",
              "    <tr>\n",
              "      <th>4</th>\n",
              "      <td>35.0</td>\n",
              "      <td>male</td>\n",
              "      <td>S</td>\n",
              "      <td>No</td>\n",
              "    </tr>\n",
              "  </tbody>\n",
              "</table>\n",
              "</div>"
            ],
            "text/plain": [
              "    Age     Sex Embarked Survived\n",
              "0  22.0    male        S       No\n",
              "1  38.0  female        C      Yes\n",
              "2  26.0  female        S      Yes\n",
              "3  35.0  female        S      Yes\n",
              "4  35.0    male        S       No"
            ]
          },
          "metadata": {
            "tags": []
          },
          "execution_count": 5
        }
      ]
    },
    {
      "cell_type": "code",
      "metadata": {
        "id": "G_-s82QnIDjK"
      },
      "source": [
        "# Binary the data according to the threshold (setting the eigenvalue to 0 or 1) \n",
        "# for processing continuous variables. Values greater than the threshold map to 1, \n",
        "# and values less than or equal to the threshold map to 0. When the default threshold is 0, \n",
        "# all positive values in the feature are mapped to 1. Binarization is a common operation on text counting data, \n",
        "# and the analyst can decide to consider only the presence or absence of a phenomenon. \n",
        "# It can also be used as a preprocessing step for estimators that consider Boolean random variables (for example, modeling Bernoulli distributions in Bayesian Settings)."
      ],
      "execution_count": null,
      "outputs": []
    },
    {
      "cell_type": "code",
      "metadata": {
        "id": "srVACd1BIWHm"
      },
      "source": [
        "from sklearn.preprocessing import Binarizer\n",
        "x = data.iloc[:,0].values.reshape(-1,1)\n",
        "transformer = Binarizer(threshold=38).fit_transform(x)\n",
        "transformer"
      ],
      "execution_count": null,
      "outputs": []
    },
    {
      "cell_type": "code",
      "metadata": {
        "id": "Ey0CAYZ8LSUE"
      },
      "source": [
        "data.iloc[:,0] = transformer"
      ],
      "execution_count": 7,
      "outputs": []
    },
    {
      "cell_type": "code",
      "metadata": {
        "id": "VHFnDFYLLYxm"
      },
      "source": [
        "# preprocessing.KBinsDiscretizer\n",
        "# This is a class that divides continuous variables into classification variables, and can sort continuous variables into boxes and encode them sequentially"
      ],
      "execution_count": null,
      "outputs": []
    },
    {
      "cell_type": "code",
      "metadata": {
        "id": "CxPIFOPFL-h5"
      },
      "source": [
        "from sklearn.preprocessing import KBinsDiscretizer\n",
        "X = data.iloc[:,0].values.reshape(-1,1)\n",
        "est = KBinsDiscretizer(n_bins=2, encode='ordinal', strategy='uniform')\n",
        "est.fit_transform(X)"
      ],
      "execution_count": null,
      "outputs": []
    },
    {
      "cell_type": "code",
      "metadata": {
        "colab": {
          "base_uri": "https://localhost:8080/"
        },
        "id": "2LN_Mlm_MEZn",
        "outputId": "cbcd98ad-0464-4a00-9f7c-cdd5b98b866a"
      },
      "source": [
        "est = KBinsDiscretizer(n_bins=2, encode='onehot', strategy='uniform') \n",
        "est.fit_transform(X).toarray()"
      ],
      "execution_count": 12,
      "outputs": [
        {
          "output_type": "execute_result",
          "data": {
            "text/plain": [
              "array([[1., 0.],\n",
              "       [1., 0.],\n",
              "       [1., 0.],\n",
              "       ...,\n",
              "       [1., 0.],\n",
              "       [1., 0.],\n",
              "       [1., 0.]])"
            ]
          },
          "metadata": {
            "tags": []
          },
          "execution_count": 12
        }
      ]
    }
  ]
}